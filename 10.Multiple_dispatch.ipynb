{
 "cells": [
  {
   "cell_type": "markdown",
   "metadata": {},
   "source": [
    "# Multiple dispatch"
   ]
  },
  {
   "cell_type": "markdown",
   "metadata": {},
   "source": [
    "In this notebook we'll explore **multiple dispatch**, which is a key feature of Julia.\n",
    "\n",
    "Multiple dispatch makes software *generic* and *fast*!\n",
    "\n",
    "#### Starting with the familiar\n",
    "\n",
    "To understand multiple dispatch in Julia, let's start with what we've already seen.\n",
    "\n",
    "We can declare functions in Julia without giving Julia any information about the types of the input arguments that function will receive:"
   ]
  },
  {
   "cell_type": "code",
   "execution_count": 1,
   "metadata": {},
   "outputs": [
    {
     "data": {
      "text/plain": [
       "f (generic function with 1 method)"
      ]
     },
     "execution_count": 1,
     "metadata": {},
     "output_type": "execute_result"
    }
   ],
   "source": [
    "f(x) = x^2"
   ]
  },
  {
   "cell_type": "markdown",
   "metadata": {},
   "source": [
    "and then Julia will determine on its own which input argument types make sense and which do not:"
   ]
  },
  {
   "cell_type": "code",
   "execution_count": 2,
   "metadata": {},
   "outputs": [
    {
     "data": {
      "text/plain": [
       "100"
      ]
     },
     "execution_count": 2,
     "metadata": {},
     "output_type": "execute_result"
    }
   ],
   "source": [
    "f(10)"
   ]
  },
  {
   "cell_type": "markdown",
   "metadata": {},
   "source": [
    "_**Note:**_  \n",
    "On the other hand, Julia does not know what to do with a vector when we try to square it, so it gives an error message..."
   ]
  },
  {
   "cell_type": "code",
   "execution_count": 3,
   "metadata": {
    "scrolled": false
   },
   "outputs": [
    {
     "ename": "LoadError",
     "evalue": "MethodError: no method matching ^(::Vector{Int64}, ::Int64)\n\u001b[0mClosest candidates are:\n\u001b[0m  ^(\u001b[91m::Union{AbstractChar, AbstractString}\u001b[39m, ::Integer) at strings/basic.jl:718\n\u001b[0m  ^(\u001b[91m::Complex{var\"#s79\"} where var\"#s79\"<:AbstractFloat\u001b[39m, ::Integer) at complex.jl:818\n\u001b[0m  ^(\u001b[91m::Complex{var\"#s79\"} where var\"#s79\"<:Integer\u001b[39m, ::Integer) at complex.jl:820\n\u001b[0m  ...",
     "output_type": "error",
     "traceback": [
      "MethodError: no method matching ^(::Vector{Int64}, ::Int64)\n\u001b[0mClosest candidates are:\n\u001b[0m  ^(\u001b[91m::Union{AbstractChar, AbstractString}\u001b[39m, ::Integer) at strings/basic.jl:718\n\u001b[0m  ^(\u001b[91m::Complex{var\"#s79\"} where var\"#s79\"<:AbstractFloat\u001b[39m, ::Integer) at complex.jl:818\n\u001b[0m  ^(\u001b[91m::Complex{var\"#s79\"} where var\"#s79\"<:Integer\u001b[39m, ::Integer) at complex.jl:820\n\u001b[0m  ...",
      "",
      "Stacktrace:",
      " [1] macro expansion",
      "   @ .\\none:0 [inlined]",
      " [2] literal_pow",
      "   @ .\\none:0 [inlined]",
      " [3] f(x::Vector{Int64})",
      "   @ Main .\\In[1]:1",
      " [4] top-level scope",
      "   @ In[3]:1",
      " [5] eval",
      "   @ .\\boot.jl:360 [inlined]",
      " [6] include_string(mapexpr::typeof(REPL.softscope), mod::Module, code::String, filename::String)",
      "   @ Base .\\loading.jl:1116"
     ]
    }
   ],
   "source": [
    "f([1, 2, 3])"
   ]
  },
  {
   "cell_type": "markdown",
   "metadata": {},
   "source": [
    "#### Specifying the types of our input arguments\n",
    "\n",
    "However, we also have the *option* to tell Julia explicitly what types our input arguments are allowed to have.\n",
    "\n",
    "For example, let's write a function `foo` that only takes strings as inputs."
   ]
  },
  {
   "cell_type": "code",
   "execution_count": 4,
   "metadata": {},
   "outputs": [
    {
     "data": {
      "text/plain": [
       "foo (generic function with 1 method)"
      ]
     },
     "execution_count": 4,
     "metadata": {},
     "output_type": "execute_result"
    }
   ],
   "source": [
    "foo(x::String, y::String) = println(\"My inputs x and y are both strings!\")"
   ]
  },
  {
   "cell_type": "markdown",
   "metadata": {},
   "source": [
    "We see here that in order to restrict the type of `x` and `y` to `String`s, we just follow the input argument name by a double colon and the keyword `String`.\n",
    "\n",
    "Now we'll see that `foo` works on `String`s and doesn't work on other input argument types."
   ]
  },
  {
   "cell_type": "code",
   "execution_count": 5,
   "metadata": {},
   "outputs": [
    {
     "name": "stdout",
     "output_type": "stream",
     "text": [
      "My inputs x and y are both strings!\n"
     ]
    }
   ],
   "source": [
    "foo(\"hello\", \"hi!\")"
   ]
  },
  {
   "cell_type": "markdown",
   "metadata": {},
   "source": [
    "_**Note:**_   \n",
    "foo on 3 & 4, we get a error, and the reason is that we don't have a function called foo that works on integers"
   ]
  },
  {
   "cell_type": "code",
   "execution_count": 6,
   "metadata": {},
   "outputs": [
    {
     "ename": "LoadError",
     "evalue": "MethodError: no method matching foo(::Int64, ::Int64)",
     "output_type": "error",
     "traceback": [
      "MethodError: no method matching foo(::Int64, ::Int64)",
      "",
      "Stacktrace:",
      " [1] top-level scope",
      "   @ In[6]:1",
      " [2] eval",
      "   @ .\\boot.jl:360 [inlined]",
      " [3] include_string(mapexpr::typeof(REPL.softscope), mod::Module, code::String, filename::String)",
      "   @ Base .\\loading.jl:1116"
     ]
    }
   ],
   "source": [
    "foo(3, 4)"
   ]
  },
  {
   "cell_type": "markdown",
   "metadata": {},
   "source": [
    "To get `foo` to work on integer (`Int`) inputs, let's tack `::Int` onto our input arguments when we declare `foo`."
   ]
  },
  {
   "cell_type": "code",
   "execution_count": 7,
   "metadata": {},
   "outputs": [
    {
     "data": {
      "text/plain": [
       "foo (generic function with 2 methods)"
      ]
     },
     "execution_count": 7,
     "metadata": {},
     "output_type": "execute_result"
    }
   ],
   "source": [
    "foo(x::Int, y::Int) = println(\"My inputs x and y are both integers!\")"
   ]
  },
  {
   "cell_type": "code",
   "execution_count": 8,
   "metadata": {},
   "outputs": [
    {
     "name": "stdout",
     "output_type": "stream",
     "text": [
      "My inputs x and y are both integers!\n"
     ]
    }
   ],
   "source": [
    "foo(3, 4)"
   ]
  },
  {
   "cell_type": "markdown",
   "metadata": {},
   "source": [
    "Now `foo` works on integers! But look, `foo` also still works when `x` and `y` are strings!"
   ]
  },
  {
   "cell_type": "code",
   "execution_count": 9,
   "metadata": {},
   "outputs": [
    {
     "name": "stdout",
     "output_type": "stream",
     "text": [
      "My inputs x and y are both strings!\n"
     ]
    }
   ],
   "source": [
    "foo(\"hello\", \"hi!\")"
   ]
  },
  {
   "cell_type": "markdown",
   "metadata": {},
   "source": [
    "This is starting to get to the heart of multiple dispatch. When we declared\n",
    "\n",
    "```julia\n",
    "foo(x::Int, y::Int) = println(\"My inputs x and y are both integers!\")\n",
    "```\n",
    "we didn't overwrite or replace\n",
    "```julia\n",
    "foo(y::String, y::String)```\n",
    "\n",
    "Instead, we just added an additional ***method*** to the ***generic function*** called `foo`.\n",
    "\n",
    "A ***generic function*** is the abstract concept associated with a particular operation.\n",
    "\n",
    "For example, the generic function `+` represents the concept of addition.\n",
    "\n",
    "A ***method*** is a specific implementation of a generic function for *particular argument types*.\n",
    "\n",
    "For example, `+` has methods that accept floating point numbers, integers, matrices, etc.\n",
    "\n",
    "We can use the `methods` to see how many methods there are for `foo`."
   ]
  },
  {
   "cell_type": "code",
   "execution_count": 10,
   "metadata": {},
   "outputs": [
    {
     "data": {
      "text/html": [
       "# 2 methods for generic function <b>foo</b>:<ul><li> foo(x::<b>String</b>, y::<b>String</b>) in Main at In[4]:1</li> <li> foo(x::<b>Int64</b>, y::<b>Int64</b>) in Main at In[7]:1</li> </ul>"
      ],
      "text/plain": [
       "# 2 methods for generic function \"foo\":\n",
       "[1] foo(x::String, y::String) in Main at In[4]:1\n",
       "[2] foo(x::Int64, y::Int64) in Main at In[7]:1"
      ]
     },
     "execution_count": 10,
     "metadata": {},
     "output_type": "execute_result"
    }
   ],
   "source": [
    "methods(foo)"
   ]
  },
  {
   "cell_type": "markdown",
   "metadata": {},
   "source": [
    "Aside: how many methods do you think there are for addition?"
   ]
  },
  {
   "cell_type": "code",
   "execution_count": 11,
   "metadata": {},
   "outputs": [
    {
     "data": {
      "text/html": [
       "# 190 methods for generic function <b>+</b>:<ul><li> +(x::<b>T</b>, y::<b>T</b>)<i> where T<:Union{Int128, Int16, Int32, Int64, Int8, UInt128, UInt16, UInt32, UInt64, UInt8}</i> in Base at <a href=\"https://github.com/JuliaLang/julia/tree/1b93d53fc4bb59350ada898038ed4de2994cce33/base/int.jl#L87\" target=\"_blank\">int.jl:87</a></li> <li> +(c::<b>Union{UInt16, UInt32, UInt8}</b>, x::<b>BigInt</b>) in Base.GMP at <a href=\"https://github.com/JuliaLang/julia/tree/1b93d53fc4bb59350ada898038ed4de2994cce33/base/gmp.jl#L528\" target=\"_blank\">gmp.jl:528</a></li> <li> +(c::<b>Union{Int16, Int32, Int8}</b>, x::<b>BigInt</b>) in Base.GMP at <a href=\"https://github.com/JuliaLang/julia/tree/1b93d53fc4bb59350ada898038ed4de2994cce33/base/gmp.jl#L534\" target=\"_blank\">gmp.jl:534</a></li> <li> +(c::<b>Union{UInt16, UInt32, UInt8}</b>, x::<b>BigFloat</b>) in Base.MPFR at <a href=\"https://github.com/JuliaLang/julia/tree/1b93d53fc4bb59350ada898038ed4de2994cce33/base/mpfr.jl#L376\" target=\"_blank\">mpfr.jl:376</a></li> <li> +(c::<b>Union{Int16, Int32, Int8}</b>, x::<b>BigFloat</b>) in Base.MPFR at <a href=\"https://github.com/JuliaLang/julia/tree/1b93d53fc4bb59350ada898038ed4de2994cce33/base/mpfr.jl#L384\" target=\"_blank\">mpfr.jl:384</a></li> <li> +(c::<b>Union{Float16, Float32, Float64}</b>, x::<b>BigFloat</b>) in Base.MPFR at <a href=\"https://github.com/JuliaLang/julia/tree/1b93d53fc4bb59350ada898038ed4de2994cce33/base/mpfr.jl#L392\" target=\"_blank\">mpfr.jl:392</a></li> <li> +(x::<b>Union{Dates.CompoundPeriod, Dates.Period}</b>) in Dates at <a href=\"file://C:/buildbot/worker/package_win64/build/usr/share/julia/stdlib/v1.6/Dates/src/periods.jl\" target=\"_blank\">D:\\Programs\\Julia-1.6.2\\share\\julia\\stdlib\\v1.6\\Dates\\src\\periods.jl:362</a></li> <li> +(A::<b>LinearAlgebra.UpperHessenberg</b>, B::<b>LinearAlgebra.UpperHessenberg</b>) in LinearAlgebra at <a href=\"file://C:/buildbot/worker/package_win64/build/usr/share/julia/stdlib/v1.6/LinearAlgebra/src/hessenberg.jl\" target=\"_blank\">D:\\Programs\\Julia-1.6.2\\share\\julia\\stdlib\\v1.6\\LinearAlgebra\\src\\hessenberg.jl:101</a></li> <li> +(H::<b>LinearAlgebra.UpperHessenberg</b>, J::<b>LinearAlgebra.UniformScaling</b>) in LinearAlgebra at <a href=\"file://C:/buildbot/worker/package_win64/build/usr/share/julia/stdlib/v1.6/LinearAlgebra/src/hessenberg.jl\" target=\"_blank\">D:\\Programs\\Julia-1.6.2\\share\\julia\\stdlib\\v1.6\\LinearAlgebra\\src\\hessenberg.jl:106</a></li> <li> +(x::<b>AbstractIrrational</b>, y::<b>AbstractIrrational</b>) in Base at <a href=\"https://github.com/JuliaLang/julia/tree/1b93d53fc4bb59350ada898038ed4de2994cce33/base/irrationals.jl#L156\" target=\"_blank\">irrationals.jl:156</a></li> <li> +(x::<b>T</b>, y::<b>Integer</b>)<i> where T<:AbstractChar</i> in Base at <a href=\"https://github.com/JuliaLang/julia/tree/1b93d53fc4bb59350ada898038ed4de2994cce33/base/char.jl#L223\" target=\"_blank\">char.jl:223</a></li> <li> +(x::<b>P</b>, y::<b>P</b>)<i> where P<:Dates.Period</i> in Dates at <a href=\"file://C:/buildbot/worker/package_win64/build/usr/share/julia/stdlib/v1.6/Dates/src/periods.jl\" target=\"_blank\">D:\\Programs\\Julia-1.6.2\\share\\julia\\stdlib\\v1.6\\Dates\\src\\periods.jl:79</a></li> <li> +(x::<b>Dates.Period</b>, y::<b>Dates.Period</b>) in Dates at <a href=\"file://C:/buildbot/worker/package_win64/build/usr/share/julia/stdlib/v1.6/Dates/src/periods.jl\" target=\"_blank\">D:\\Programs\\Julia-1.6.2\\share\\julia\\stdlib\\v1.6\\Dates\\src\\periods.jl:351</a></li> <li> +(y::<b>Dates.Period</b>, x::<b>Dates.CompoundPeriod</b>) in Dates at <a href=\"file://C:/buildbot/worker/package_win64/build/usr/share/julia/stdlib/v1.6/Dates/src/periods.jl\" target=\"_blank\">D:\\Programs\\Julia-1.6.2\\share\\julia\\stdlib\\v1.6\\Dates\\src\\periods.jl:353</a></li> <li> +(y::<b>Dates.Period</b>, x::<b>Dates.TimeType</b>) in Dates at <a href=\"file://C:/buildbot/worker/package_win64/build/usr/share/julia/stdlib/v1.6/Dates/src/arithmetic.jl\" target=\"_blank\">D:\\Programs\\Julia-1.6.2\\share\\julia\\stdlib\\v1.6\\Dates\\src\\arithmetic.jl:85</a></li> <li> +(x::<b>Dates.Period</b>, r::<b>AbstractRange{var\"#s832\"} where var\"#s832\"<:Dates.TimeType</b>) in Dates at <a href=\"file://C:/buildbot/worker/package_win64/build/usr/share/julia/stdlib/v1.6/Dates/src/ranges.jl\" target=\"_blank\">D:\\Programs\\Julia-1.6.2\\share\\julia\\stdlib\\v1.6\\Dates\\src\\ranges.jl:62</a></li> <li> +(y::<b>Union{Dates.CompoundPeriod, Dates.Period}</b>, x::<b>AbstractArray{var\"#s832\", N} where {var\"#s832\"<:Dates.TimeType, N}</b>) in Dates at <a href=\"file://C:/buildbot/worker/package_win64/build/usr/share/julia/stdlib/v1.6/Dates/src/deprecated.jl\" target=\"_blank\">D:\\Programs\\Julia-1.6.2\\share\\julia\\stdlib\\v1.6\\Dates\\src\\deprecated.jl:14</a></li> <li> +(A::<b>LinearAlgebra.Bidiagonal</b>, B::<b>LinearAlgebra.Bidiagonal</b>) in LinearAlgebra at <a href=\"file://C:/buildbot/worker/package_win64/build/usr/share/julia/stdlib/v1.6/LinearAlgebra/src/bidiag.jl\" target=\"_blank\">D:\\Programs\\Julia-1.6.2\\share\\julia\\stdlib\\v1.6\\LinearAlgebra\\src\\bidiag.jl:354</a></li> <li> +(A::<b>LinearAlgebra.Bidiagonal</b>, B::<b>LinearAlgebra.UpperTriangular</b>) in LinearAlgebra at <a href=\"file://C:/buildbot/worker/package_win64/build/usr/share/julia/stdlib/v1.6/LinearAlgebra/src/special.jl\" target=\"_blank\">D:\\Programs\\Julia-1.6.2\\share\\julia\\stdlib\\v1.6\\LinearAlgebra\\src\\special.jl:94</a></li> <li> +(A::<b>LinearAlgebra.Bidiagonal</b>, B::<b>LinearAlgebra.UnitUpperTriangular</b>) in LinearAlgebra at <a href=\"file://C:/buildbot/worker/package_win64/build/usr/share/julia/stdlib/v1.6/LinearAlgebra/src/special.jl\" target=\"_blank\">D:\\Programs\\Julia-1.6.2\\share\\julia\\stdlib\\v1.6\\LinearAlgebra\\src\\special.jl:94</a></li> <li> +(A::<b>LinearAlgebra.Bidiagonal</b>, B::<b>LinearAlgebra.LowerTriangular</b>) in LinearAlgebra at <a href=\"file://C:/buildbot/worker/package_win64/build/usr/share/julia/stdlib/v1.6/LinearAlgebra/src/special.jl\" target=\"_blank\">D:\\Programs\\Julia-1.6.2\\share\\julia\\stdlib\\v1.6\\LinearAlgebra\\src\\special.jl:94</a></li> <li> +(A::<b>LinearAlgebra.Bidiagonal</b>, B::<b>LinearAlgebra.UnitLowerTriangular</b>) in LinearAlgebra at <a href=\"file://C:/buildbot/worker/package_win64/build/usr/share/julia/stdlib/v1.6/LinearAlgebra/src/special.jl\" target=\"_blank\">D:\\Programs\\Julia-1.6.2\\share\\julia\\stdlib\\v1.6\\LinearAlgebra\\src\\special.jl:94</a></li> <li> +(A::<b>LinearAlgebra.Bidiagonal</b>, B::<b>LinearAlgebra.Diagonal</b>) in LinearAlgebra at <a href=\"file://C:/buildbot/worker/package_win64/build/usr/share/julia/stdlib/v1.6/LinearAlgebra/src/special.jl\" target=\"_blank\">D:\\Programs\\Julia-1.6.2\\share\\julia\\stdlib\\v1.6\\LinearAlgebra\\src\\special.jl:115</a></li> <li> +(A::<b>LinearAlgebra.Bidiagonal</b>, B::<b>LinearAlgebra.Tridiagonal</b>) in LinearAlgebra at <a href=\"file://C:/buildbot/worker/package_win64/build/usr/share/julia/stdlib/v1.6/LinearAlgebra/src/special.jl\" target=\"_blank\">D:\\Programs\\Julia-1.6.2\\share\\julia\\stdlib\\v1.6\\LinearAlgebra\\src\\special.jl:183</a></li> <li> +(A::<b>LinearAlgebra.Bidiagonal</b>, B::<b>LinearAlgebra.SymTridiagonal</b>) in LinearAlgebra at <a href=\"file://C:/buildbot/worker/package_win64/build/usr/share/julia/stdlib/v1.6/LinearAlgebra/src/special.jl\" target=\"_blank\">D:\\Programs\\Julia-1.6.2\\share\\julia\\stdlib\\v1.6\\LinearAlgebra\\src\\special.jl:203</a></li> <li> +(A::<b>LinearAlgebra.Bidiagonal{var\"#s832\", V} where {var\"#s832\"<:Number, V<:AbstractVector{var\"#s832\"}}</b>, B::<b>LinearAlgebra.UniformScaling</b>) in LinearAlgebra at <a href=\"file://C:/buildbot/worker/package_win64/build/usr/share/julia/stdlib/v1.6/LinearAlgebra/src/special.jl\" target=\"_blank\">D:\\Programs\\Julia-1.6.2\\share\\julia\\stdlib\\v1.6\\LinearAlgebra\\src\\special.jl:236</a></li> <li> +(y::<b>AbstractFloat</b>, x::<b>Bool</b>) in Base at <a href=\"https://github.com/JuliaLang/julia/tree/1b93d53fc4bb59350ada898038ed4de2994cce33/base/bool.jl#L102\" target=\"_blank\">bool.jl:102</a></li> <li> +(A::<b>LinearAlgebra.UpperTriangular</b>, B::<b>LinearAlgebra.UpperTriangular</b>) in LinearAlgebra at <a href=\"file://C:/buildbot/worker/package_win64/build/usr/share/julia/stdlib/v1.6/LinearAlgebra/src/triangular.jl\" target=\"_blank\">D:\\Programs\\Julia-1.6.2\\share\\julia\\stdlib\\v1.6\\LinearAlgebra\\src\\triangular.jl:648</a></li> <li> +(A::<b>LinearAlgebra.UpperTriangular</b>, B::<b>LinearAlgebra.UnitUpperTriangular</b>) in LinearAlgebra at <a href=\"file://C:/buildbot/worker/package_win64/build/usr/share/julia/stdlib/v1.6/LinearAlgebra/src/triangular.jl\" target=\"_blank\">D:\\Programs\\Julia-1.6.2\\share\\julia\\stdlib\\v1.6\\LinearAlgebra\\src\\triangular.jl:650</a></li> <li> +(A::<b>LinearAlgebra.UpperTriangular</b>, B::<b>LinearAlgebra.Bidiagonal</b>) in LinearAlgebra at <a href=\"file://C:/buildbot/worker/package_win64/build/usr/share/julia/stdlib/v1.6/LinearAlgebra/src/special.jl\" target=\"_blank\">D:\\Programs\\Julia-1.6.2\\share\\julia\\stdlib\\v1.6\\LinearAlgebra\\src\\special.jl:86</a></li> <li> +(z::<b>Complex</b>, w::<b>Complex</b>) in Base at <a href=\"https://github.com/JuliaLang/julia/tree/1b93d53fc4bb59350ada898038ed4de2994cce33/base/complex.jl#L275\" target=\"_blank\">complex.jl:275</a></li> <li> +(J::<b>LinearAlgebra.UniformScaling</b>) in LinearAlgebra at <a href=\"file://C:/buildbot/worker/package_win64/build/usr/share/julia/stdlib/v1.6/LinearAlgebra/src/uniformscaling.jl\" target=\"_blank\">D:\\Programs\\Julia-1.6.2\\share\\julia\\stdlib\\v1.6\\LinearAlgebra\\src\\uniformscaling.jl:150</a></li> <li> +(J::<b>LinearAlgebra.UniformScaling</b>, x::<b>Number</b>) in LinearAlgebra at <a href=\"file://C:/buildbot/worker/package_win64/build/usr/share/julia/stdlib/v1.6/LinearAlgebra/src/uniformscaling.jl\" target=\"_blank\">D:\\Programs\\Julia-1.6.2\\share\\julia\\stdlib\\v1.6\\LinearAlgebra\\src\\uniformscaling.jl:145</a></li> <li> +(J1::<b>LinearAlgebra.UniformScaling</b>, J2::<b>LinearAlgebra.UniformScaling</b>) in LinearAlgebra at <a href=\"file://C:/buildbot/worker/package_win64/build/usr/share/julia/stdlib/v1.6/LinearAlgebra/src/uniformscaling.jl\" target=\"_blank\">D:\\Programs\\Julia-1.6.2\\share\\julia\\stdlib\\v1.6\\LinearAlgebra\\src\\uniformscaling.jl:151</a></li> <li> +(J::<b>LinearAlgebra.UniformScaling</b>, B::<b>BitMatrix</b>) in LinearAlgebra at <a href=\"file://C:/buildbot/worker/package_win64/build/usr/share/julia/stdlib/v1.6/LinearAlgebra/src/uniformscaling.jl\" target=\"_blank\">D:\\Programs\\Julia-1.6.2\\share\\julia\\stdlib\\v1.6\\LinearAlgebra\\src\\uniformscaling.jl:153</a></li> <li> +(J::<b>LinearAlgebra.UniformScaling</b>, F::<b>LinearAlgebra.Hessenberg</b>) in LinearAlgebra at <a href=\"file://C:/buildbot/worker/package_win64/build/usr/share/julia/stdlib/v1.6/LinearAlgebra/src/hessenberg.jl\" target=\"_blank\">D:\\Programs\\Julia-1.6.2\\share\\julia\\stdlib\\v1.6\\LinearAlgebra\\src\\hessenberg.jl:560</a></li> <li> +(A::<b>LinearAlgebra.UniformScaling</b>, B::<b>LinearAlgebra.Tridiagonal{var\"#s832\", V} where {var\"#s832\"<:Number, V<:AbstractVector{var\"#s832\"}}</b>) in LinearAlgebra at <a href=\"file://C:/buildbot/worker/package_win64/build/usr/share/julia/stdlib/v1.6/LinearAlgebra/src/special.jl\" target=\"_blank\">D:\\Programs\\Julia-1.6.2\\share\\julia\\stdlib\\v1.6\\LinearAlgebra\\src\\special.jl:245</a></li> <li> +(A::<b>LinearAlgebra.UniformScaling</b>, B::<b>LinearAlgebra.SymTridiagonal{var\"#s832\", V} where {var\"#s832\"<:Number, V<:AbstractVector{var\"#s832\"}}</b>) in LinearAlgebra at <a href=\"file://C:/buildbot/worker/package_win64/build/usr/share/julia/stdlib/v1.6/LinearAlgebra/src/special.jl\" target=\"_blank\">D:\\Programs\\Julia-1.6.2\\share\\julia\\stdlib\\v1.6\\LinearAlgebra\\src\\special.jl:250</a></li> <li> +(A::<b>LinearAlgebra.UniformScaling</b>, B::<b>LinearAlgebra.Bidiagonal{var\"#s832\", V} where {var\"#s832\"<:Number, V<:AbstractVector{var\"#s832\"}}</b>) in LinearAlgebra at <a href=\"file://C:/buildbot/worker/package_win64/build/usr/share/julia/stdlib/v1.6/LinearAlgebra/src/special.jl\" target=\"_blank\">D:\\Programs\\Julia-1.6.2\\share\\julia\\stdlib\\v1.6\\LinearAlgebra\\src\\special.jl:255</a></li> <li> +(A::<b>LinearAlgebra.UniformScaling</b>, B::<b>LinearAlgebra.Diagonal{var\"#s832\", V} where {var\"#s832\"<:Number, V<:AbstractVector{var\"#s832\"}}</b>) in LinearAlgebra at <a href=\"file://C:/buildbot/worker/package_win64/build/usr/share/julia/stdlib/v1.6/LinearAlgebra/src/special.jl\" target=\"_blank\">D:\\Programs\\Julia-1.6.2\\share\\julia\\stdlib\\v1.6\\LinearAlgebra\\src\\special.jl:260</a></li> <li> +(J::<b>LinearAlgebra.UniformScaling</b>, A::<b>AbstractMatrix{T} where T</b>) in LinearAlgebra at <a href=\"file://C:/buildbot/worker/package_win64/build/usr/share/julia/stdlib/v1.6/LinearAlgebra/src/uniformscaling.jl\" target=\"_blank\">D:\\Programs\\Julia-1.6.2\\share\\julia\\stdlib\\v1.6\\LinearAlgebra\\src\\uniformscaling.jl:154</a></li> <li> +(A::<b>SparseArrays.AbstractSparseMatrix{Tv, Ti} where {Tv, Ti}</b>, B::<b>LinearAlgebra.Hermitian{var\"#s832\", var\"#s831\"} where {var\"#s832\", var\"#s831\"<:(SparseArrays.AbstractSparseMatrix{Tv, Ti} where {Tv, Ti})}</b>) in SparseArrays at <a href=\"file://C:/buildbot/worker/package_win64/build/usr/share/julia/stdlib/v1.6/SparseArrays/src/linalg.jl\" target=\"_blank\">D:\\Programs\\Julia-1.6.2\\share\\julia\\stdlib\\v1.6\\SparseArrays\\src\\linalg.jl:14</a></li> <li> +(A::<b>SparseArrays.AbstractSparseMatrix{Tv, Ti} where {Tv, Ti}</b>, B::<b>LinearAlgebra.Hermitian</b>) in SparseArrays at <a href=\"file://C:/buildbot/worker/package_win64/build/usr/share/julia/stdlib/v1.6/SparseArrays/src/linalg.jl\" target=\"_blank\">D:\\Programs\\Julia-1.6.2\\share\\julia\\stdlib\\v1.6\\SparseArrays\\src\\linalg.jl:17</a></li> <li> +(A::<b>SparseArrays.AbstractSparseMatrix{Tv, Ti} where {Tv, Ti}</b>, B::<b>LinearAlgebra.Symmetric{var\"#s832\", var\"#s831\"} where {var\"#s832\", var\"#s831\"<:(SparseArrays.AbstractSparseMatrix{Tv, Ti} where {Tv, Ti})}</b>) in SparseArrays at <a href=\"file://C:/buildbot/worker/package_win64/build/usr/share/julia/stdlib/v1.6/SparseArrays/src/linalg.jl\" target=\"_blank\">D:\\Programs\\Julia-1.6.2\\share\\julia\\stdlib\\v1.6\\SparseArrays\\src\\linalg.jl:14</a></li> <li> +(A::<b>SparseArrays.AbstractSparseMatrix{Tv, Ti} where {Tv, Ti}</b>, B::<b>LinearAlgebra.Symmetric</b>) in SparseArrays at <a href=\"file://C:/buildbot/worker/package_win64/build/usr/share/julia/stdlib/v1.6/SparseArrays/src/linalg.jl\" target=\"_blank\">D:\\Programs\\Julia-1.6.2\\share\\julia\\stdlib\\v1.6\\SparseArrays\\src\\linalg.jl:17</a></li> <li> +(r1::<b>LinRange{T}</b>, r2::<b>LinRange{T}</b>)<i> where T</i> in Base at <a href=\"https://github.com/JuliaLang/julia/tree/1b93d53fc4bb59350ada898038ed4de2994cce33/base/range.jl#L1110\" target=\"_blank\">range.jl:1110</a></li> <li> +(F::<b>LinearAlgebra.Hessenberg</b>, J::<b>LinearAlgebra.UniformScaling</b>) in LinearAlgebra at <a href=\"file://C:/buildbot/worker/package_win64/build/usr/share/julia/stdlib/v1.6/LinearAlgebra/src/hessenberg.jl\" target=\"_blank\">D:\\Programs\\Julia-1.6.2\\share\\julia\\stdlib\\v1.6\\LinearAlgebra\\src\\hessenberg.jl:559</a></li> <li> +(A::<b>LinearAlgebra.Hermitian</b>, B::<b>LinearAlgebra.Hermitian</b>) in LinearAlgebra at <a href=\"file://C:/buildbot/worker/package_win64/build/usr/share/julia/stdlib/v1.6/LinearAlgebra/src/symmetric.jl\" target=\"_blank\">D:\\Programs\\Julia-1.6.2\\share\\julia\\stdlib\\v1.6\\LinearAlgebra\\src\\symmetric.jl:469</a></li> <li> +(H::<b>LinearAlgebra.Hermitian</b>, D::<b>LinearAlgebra.Diagonal{var\"#s832\", V} where {var\"#s832\"<:Real, V<:AbstractVector{var\"#s832\"}}</b>) in LinearAlgebra at <a href=\"file://C:/buildbot/worker/package_win64/build/usr/share/julia/stdlib/v1.6/LinearAlgebra/src/diagonal.jl\" target=\"_blank\">D:\\Programs\\Julia-1.6.2\\share\\julia\\stdlib\\v1.6\\LinearAlgebra\\src\\diagonal.jl:169</a></li> <li> +(A::<b>LinearAlgebra.Hermitian</b>, J::<b>LinearAlgebra.UniformScaling{var\"#s832\"} where var\"#s832\"<:Complex</b>) in LinearAlgebra at <a href=\"file://C:/buildbot/worker/package_win64/build/usr/share/julia/stdlib/v1.6/LinearAlgebra/src/uniformscaling.jl\" target=\"_blank\">D:\\Programs\\Julia-1.6.2\\share\\julia\\stdlib\\v1.6\\LinearAlgebra\\src\\uniformscaling.jl:196</a></li> <li> +(A::<b>LinearAlgebra.Hermitian{var\"#s830\", var\"#s829\"} where {var\"#s830\", var\"#s829\"<:(SparseArrays.AbstractSparseMatrix{Tv, Ti} where {Tv, Ti})}</b>, B::<b>SparseArrays.AbstractSparseMatrix{Tv, Ti} where {Tv, Ti}</b>) in SparseArrays at <a href=\"file://C:/buildbot/worker/package_win64/build/usr/share/julia/stdlib/v1.6/SparseArrays/src/linalg.jl\" target=\"_blank\">D:\\Programs\\Julia-1.6.2\\share\\julia\\stdlib\\v1.6\\SparseArrays\\src\\linalg.jl:15</a></li> <li> +(A::<b>LinearAlgebra.Hermitian</b>, B::<b>SparseArrays.AbstractSparseMatrix{Tv, Ti} where {Tv, Ti}</b>) in SparseArrays at <a href=\"file://C:/buildbot/worker/package_win64/build/usr/share/julia/stdlib/v1.6/SparseArrays/src/linalg.jl\" target=\"_blank\">D:\\Programs\\Julia-1.6.2\\share\\julia\\stdlib\\v1.6\\SparseArrays\\src\\linalg.jl:18</a></li> <li> +(A::<b>LinearAlgebra.Hermitian{var\"#s820\", var\"#s819\"} where {var\"#s820\", var\"#s819\"<:(SparseArrays.AbstractSparseMatrix{Tv, Ti} where {Tv, Ti})}</b>, B::<b>LinearAlgebra.Symmetric{var\"#s818\", var\"#s817\"} where {var\"#s818\"<:Real, var\"#s817\"<:(SparseArrays.AbstractSparseMatrix{Tv, Ti} where {Tv, Ti})}</b>) in SparseArrays at <a href=\"file://C:/buildbot/worker/package_win64/build/usr/share/julia/stdlib/v1.6/SparseArrays/src/linalg.jl\" target=\"_blank\">D:\\Programs\\Julia-1.6.2\\share\\julia\\stdlib\\v1.6\\SparseArrays\\src\\linalg.jl:26</a></li> <li> +(A::<b>LinearAlgebra.Hermitian</b>, B::<b>LinearAlgebra.Symmetric{var\"#s832\", S} where {var\"#s832\"<:Real, S<:(AbstractMatrix{var\"#s832\"} where var\"#s832\"<:var\"#s832\")}</b>) in LinearAlgebra at <a href=\"file://C:/buildbot/worker/package_win64/build/usr/share/julia/stdlib/v1.6/LinearAlgebra/src/symmetric.jl\" target=\"_blank\">D:\\Programs\\Julia-1.6.2\\share\\julia\\stdlib\\v1.6\\LinearAlgebra\\src\\symmetric.jl:483</a></li> <li> +(A::<b>LinearAlgebra.Hermitian{var\"#s828\", var\"#s827\"} where {var\"#s828\", var\"#s827\"<:(SparseArrays.AbstractSparseMatrix{Tv, Ti} where {Tv, Ti})}</b>, B::<b>LinearAlgebra.Symmetric{var\"#s826\", var\"#s825\"} where {var\"#s826\", var\"#s825\"<:(SparseArrays.AbstractSparseMatrix{Tv, Ti} where {Tv, Ti})}</b>) in SparseArrays at <a href=\"file://C:/buildbot/worker/package_win64/build/usr/share/julia/stdlib/v1.6/SparseArrays/src/linalg.jl\" target=\"_blank\">D:\\Programs\\Julia-1.6.2\\share\\julia\\stdlib\\v1.6\\SparseArrays\\src\\linalg.jl:24</a></li> <li> +(A::<b>LinearAlgebra.LowerTriangular</b>, B::<b>LinearAlgebra.LowerTriangular</b>) in LinearAlgebra at <a href=\"file://C:/buildbot/worker/package_win64/build/usr/share/julia/stdlib/v1.6/LinearAlgebra/src/triangular.jl\" target=\"_blank\">D:\\Programs\\Julia-1.6.2\\share\\julia\\stdlib\\v1.6\\LinearAlgebra\\src\\triangular.jl:649</a></li> <li> +(A::<b>LinearAlgebra.LowerTriangular</b>, B::<b>LinearAlgebra.UnitLowerTriangular</b>) in LinearAlgebra at <a href=\"file://C:/buildbot/worker/package_win64/build/usr/share/julia/stdlib/v1.6/LinearAlgebra/src/triangular.jl\" target=\"_blank\">D:\\Programs\\Julia-1.6.2\\share\\julia\\stdlib\\v1.6\\LinearAlgebra\\src\\triangular.jl:651</a></li> <li> +(A::<b>LinearAlgebra.LowerTriangular</b>, B::<b>LinearAlgebra.Bidiagonal</b>) in LinearAlgebra at <a href=\"file://C:/buildbot/worker/package_win64/build/usr/share/julia/stdlib/v1.6/LinearAlgebra/src/special.jl\" target=\"_blank\">D:\\Programs\\Julia-1.6.2\\share\\julia\\stdlib\\v1.6\\LinearAlgebra\\src\\special.jl:86</a></li> <li> +(A::<b>BitArray</b>, B::<b>BitArray</b>) in Base at <a href=\"https://github.com/JuliaLang/julia/tree/1b93d53fc4bb59350ada898038ed4de2994cce33/base/bitarray.jl#L1127\" target=\"_blank\">bitarray.jl:1127</a></li> <li> +(A::<b>Array</b>, Bs::<b>Array...</b>) in Base at <a href=\"https://github.com/JuliaLang/julia/tree/1b93d53fc4bb59350ada898038ed4de2994cce33/base/arraymath.jl#L43\" target=\"_blank\">arraymath.jl:43</a></li> <li> +(X::<b>StridedArray{var\"#s832\", N} where {var\"#s832\"<:Union{Dates.CompoundPeriod, Dates.Period}, N}</b>, Y::<b>StridedArray{var\"#s831\", N} where {var\"#s831\"<:Union{Dates.CompoundPeriod, Dates.Period}, N}</b>) in Dates at <a href=\"file://C:/buildbot/worker/package_win64/build/usr/share/julia/stdlib/v1.6/Dates/src/deprecated.jl\" target=\"_blank\">D:\\Programs\\Julia-1.6.2\\share\\julia\\stdlib\\v1.6\\Dates\\src\\deprecated.jl:62</a></li> <li> +(A::<b>Array</b>, B::<b>SparseArrays.AbstractSparseMatrixCSC</b>) in SparseArrays at <a href=\"file://C:/buildbot/worker/package_win64/build/usr/share/julia/stdlib/v1.6/SparseArrays/src/sparsematrix.jl\" target=\"_blank\">D:\\Programs\\Julia-1.6.2\\share\\julia\\stdlib\\v1.6\\SparseArrays\\src\\sparsematrix.jl:1745</a></li> <li> +(x::<b>StridedArray{var\"#s832\", N} where {var\"#s832\"<:Union{Dates.CompoundPeriod, Dates.Period}, N}</b>) in Dates at <a href=\"file://C:/buildbot/worker/package_win64/build/usr/share/julia/stdlib/v1.6/Dates/src/deprecated.jl\" target=\"_blank\">D:\\Programs\\Julia-1.6.2\\share\\julia\\stdlib\\v1.6\\Dates\\src\\deprecated.jl:55</a></li> <li> +(x::<b>StridedArray{var\"#s832\", N} where {var\"#s832\"<:Union{Dates.CompoundPeriod, Dates.Period}, N}</b>, y::<b>Dates.TimeType</b>) in Dates at <a href=\"file://C:/buildbot/worker/package_win64/build/usr/share/julia/stdlib/v1.6/Dates/src/deprecated.jl\" target=\"_blank\">D:\\Programs\\Julia-1.6.2\\share\\julia\\stdlib\\v1.6\\Dates\\src\\deprecated.jl:10</a></li> <li> +(r1::<b>StepRangeLen{T, R, S} where S</b>, r2::<b>StepRangeLen{T, R, S} where S</b>)<i> where {R<:Base.TwicePrecision, T}</i> in Base at <a href=\"https://github.com/JuliaLang/julia/tree/1b93d53fc4bb59350ada898038ed4de2994cce33/base/twiceprecision.jl#L574\" target=\"_blank\">twiceprecision.jl:574</a></li> <li> +(r1::<b>StepRangeLen{T, S, S1} where S1</b>, r2::<b>StepRangeLen{T, S, S1} where S1</b>)<i> where {T, S}</i> in Base at <a href=\"https://github.com/JuliaLang/julia/tree/1b93d53fc4bb59350ada898038ed4de2994cce33/base/range.jl#L1126\" target=\"_blank\">range.jl:1126</a></li> <li> +(A::<b>LinearAlgebra.Tridiagonal</b>, B::<b>LinearAlgebra.Tridiagonal</b>) in LinearAlgebra at <a href=\"file://C:/buildbot/worker/package_win64/build/usr/share/julia/stdlib/v1.6/LinearAlgebra/src/tridiag.jl\" target=\"_blank\">D:\\Programs\\Julia-1.6.2\\share\\julia\\stdlib\\v1.6\\LinearAlgebra\\src\\tridiag.jl:733</a></li> <li> +(A::<b>LinearAlgebra.Tridiagonal</b>, B::<b>LinearAlgebra.SymTridiagonal</b>) in LinearAlgebra at <a href=\"file://C:/buildbot/worker/package_win64/build/usr/share/julia/stdlib/v1.6/LinearAlgebra/src/special.jl\" target=\"_blank\">D:\\Programs\\Julia-1.6.2\\share\\julia\\stdlib\\v1.6\\LinearAlgebra\\src\\special.jl:157</a></li> <li> +(A::<b>LinearAlgebra.Tridiagonal</b>, B::<b>LinearAlgebra.Diagonal</b>) in LinearAlgebra at <a href=\"file://C:/buildbot/worker/package_win64/build/usr/share/julia/stdlib/v1.6/LinearAlgebra/src/special.jl\" target=\"_blank\">D:\\Programs\\Julia-1.6.2\\share\\julia\\stdlib\\v1.6\\LinearAlgebra\\src\\special.jl:173</a></li> <li> +(A::<b>LinearAlgebra.Tridiagonal</b>, B::<b>LinearAlgebra.Bidiagonal</b>) in LinearAlgebra at <a href=\"file://C:/buildbot/worker/package_win64/build/usr/share/julia/stdlib/v1.6/LinearAlgebra/src/special.jl\" target=\"_blank\">D:\\Programs\\Julia-1.6.2\\share\\julia\\stdlib\\v1.6\\LinearAlgebra\\src\\special.jl:193</a></li> <li> +(A::<b>LinearAlgebra.Tridiagonal{var\"#s832\", V} where {var\"#s832\"<:Number, V<:AbstractVector{var\"#s832\"}}</b>, B::<b>LinearAlgebra.UniformScaling</b>) in LinearAlgebra at <a href=\"file://C:/buildbot/worker/package_win64/build/usr/share/julia/stdlib/v1.6/LinearAlgebra/src/special.jl\" target=\"_blank\">D:\\Programs\\Julia-1.6.2\\share\\julia\\stdlib\\v1.6\\LinearAlgebra\\src\\special.jl:226</a></li> <li> +(x::<b>Base.TwicePrecision</b>, y::<b>Number</b>) in Base at <a href=\"https://github.com/JuliaLang/julia/tree/1b93d53fc4bb59350ada898038ed4de2994cce33/base/twiceprecision.jl#L267\" target=\"_blank\">twiceprecision.jl:267</a></li> <li> +(x::<b>Base.TwicePrecision{T}</b>, y::<b>Base.TwicePrecision{T}</b>)<i> where T</i> in Base at <a href=\"https://github.com/JuliaLang/julia/tree/1b93d53fc4bb59350ada898038ed4de2994cce33/base/twiceprecision.jl#L273\" target=\"_blank\">twiceprecision.jl:273</a></li> <li> +(x::<b>Base.TwicePrecision</b>, y::<b>Base.TwicePrecision</b>) in Base at <a href=\"https://github.com/JuliaLang/julia/tree/1b93d53fc4bb59350ada898038ed4de2994cce33/base/twiceprecision.jl#L278\" target=\"_blank\">twiceprecision.jl:278</a></li> <li> +(x::<b>Ptr</b>, y::<b>Integer</b>) in Base at <a href=\"https://github.com/JuliaLang/julia/tree/1b93d53fc4bb59350ada898038ed4de2994cce33/base/pointer.jl#L159\" target=\"_blank\">pointer.jl:159</a></li> <li> +(A::<b>LinearAlgebra.SymTridiagonal</b>, B::<b>LinearAlgebra.SymTridiagonal</b>) in LinearAlgebra at <a href=\"file://C:/buildbot/worker/package_win64/build/usr/share/julia/stdlib/v1.6/LinearAlgebra/src/tridiag.jl\" target=\"_blank\">D:\\Programs\\Julia-1.6.2\\share\\julia\\stdlib\\v1.6\\LinearAlgebra\\src\\tridiag.jl:205</a></li> <li> +(A::<b>LinearAlgebra.SymTridiagonal</b>, B::<b>LinearAlgebra.Diagonal</b>) in LinearAlgebra at <a href=\"file://C:/buildbot/worker/package_win64/build/usr/share/julia/stdlib/v1.6/LinearAlgebra/src/special.jl\" target=\"_blank\">D:\\Programs\\Julia-1.6.2\\share\\julia\\stdlib\\v1.6\\LinearAlgebra\\src\\special.jl:145</a></li> <li> +(A::<b>LinearAlgebra.SymTridiagonal</b>, B::<b>LinearAlgebra.Tridiagonal</b>) in LinearAlgebra at <a href=\"file://C:/buildbot/worker/package_win64/build/usr/share/julia/stdlib/v1.6/LinearAlgebra/src/special.jl\" target=\"_blank\">D:\\Programs\\Julia-1.6.2\\share\\julia\\stdlib\\v1.6\\LinearAlgebra\\src\\special.jl:159</a></li> <li> +(A::<b>LinearAlgebra.SymTridiagonal</b>, B::<b>LinearAlgebra.Bidiagonal</b>) in LinearAlgebra at <a href=\"file://C:/buildbot/worker/package_win64/build/usr/share/julia/stdlib/v1.6/LinearAlgebra/src/special.jl\" target=\"_blank\">D:\\Programs\\Julia-1.6.2\\share\\julia\\stdlib\\v1.6\\LinearAlgebra\\src\\special.jl:213</a></li> <li> +(A::<b>LinearAlgebra.SymTridiagonal{var\"#s832\", V} where {var\"#s832\"<:Number, V<:AbstractVector{var\"#s832\"}}</b>, B::<b>LinearAlgebra.UniformScaling</b>) in LinearAlgebra at <a href=\"file://C:/buildbot/worker/package_win64/build/usr/share/julia/stdlib/v1.6/LinearAlgebra/src/special.jl\" target=\"_blank\">D:\\Programs\\Julia-1.6.2\\share\\julia\\stdlib\\v1.6\\LinearAlgebra\\src\\special.jl:231</a></li> <li> +(x::<b>Dates.Instant</b>) in Dates at <a href=\"file://C:/buildbot/worker/package_win64/build/usr/share/julia/stdlib/v1.6/Dates/src/arithmetic.jl\" target=\"_blank\">D:\\Programs\\Julia-1.6.2\\share\\julia\\stdlib\\v1.6\\Dates\\src\\arithmetic.jl:4</a></li> <li> +(A::<b>LinearAlgebra.UnitLowerTriangular</b>, B::<b>LinearAlgebra.LowerTriangular</b>) in LinearAlgebra at <a href=\"file://C:/buildbot/worker/package_win64/build/usr/share/julia/stdlib/v1.6/LinearAlgebra/src/triangular.jl\" target=\"_blank\">D:\\Programs\\Julia-1.6.2\\share\\julia\\stdlib\\v1.6\\LinearAlgebra\\src\\triangular.jl:653</a></li> <li> +(A::<b>LinearAlgebra.UnitLowerTriangular</b>, B::<b>LinearAlgebra.UnitLowerTriangular</b>) in LinearAlgebra at <a href=\"file://C:/buildbot/worker/package_win64/build/usr/share/julia/stdlib/v1.6/LinearAlgebra/src/triangular.jl\" target=\"_blank\">D:\\Programs\\Julia-1.6.2\\share\\julia\\stdlib\\v1.6\\LinearAlgebra\\src\\triangular.jl:655</a></li> <li> +(UL::<b>LinearAlgebra.UnitLowerTriangular</b>, J::<b>LinearAlgebra.UniformScaling</b>) in LinearAlgebra at <a href=\"file://C:/buildbot/worker/package_win64/build/usr/share/julia/stdlib/v1.6/LinearAlgebra/src/uniformscaling.jl\" target=\"_blank\">D:\\Programs\\Julia-1.6.2\\share\\julia\\stdlib\\v1.6\\LinearAlgebra\\src\\uniformscaling.jl:182</a></li> <li> +(A::<b>LinearAlgebra.UnitLowerTriangular</b>, B::<b>LinearAlgebra.Bidiagonal</b>) in LinearAlgebra at <a href=\"file://C:/buildbot/worker/package_win64/build/usr/share/julia/stdlib/v1.6/LinearAlgebra/src/special.jl\" target=\"_blank\">D:\\Programs\\Julia-1.6.2\\share\\julia\\stdlib\\v1.6\\LinearAlgebra\\src\\special.jl:86</a></li> <li> +(r1::<b>OrdinalRange</b>, r2::<b>OrdinalRange</b>) in Base at <a href=\"https://github.com/JuliaLang/julia/tree/1b93d53fc4bb59350ada898038ed4de2994cce33/base/range.jl#L1103\" target=\"_blank\">range.jl:1103</a></li> <li> +(r1::<b>Union{LinRange, OrdinalRange, StepRangeLen}</b>, r2::<b>Union{LinRange, OrdinalRange, StepRangeLen}</b>) in Base at <a href=\"https://github.com/JuliaLang/julia/tree/1b93d53fc4bb59350ada898038ed4de2994cce33/base/range.jl#L1119\" target=\"_blank\">range.jl:1119</a></li> <li> +(index1::<b>CartesianIndex{N}</b>, index2::<b>CartesianIndex{N}</b>)<i> where N</i> in Base.IteratorsMD at <a href=\"https://github.com/JuliaLang/julia/tree/1b93d53fc4bb59350ada898038ed4de2994cce33/base/multidimensional.jl#L114\" target=\"_blank\">multidimensional.jl:114</a></li> <li> +(A::<b>SparseArrays.AbstractSparseMatrixCSC</b>, B::<b>SparseArrays.AbstractSparseMatrixCSC</b>) in SparseArrays at <a href=\"file://C:/buildbot/worker/package_win64/build/usr/share/julia/stdlib/v1.6/SparseArrays/src/sparsematrix.jl\" target=\"_blank\">D:\\Programs\\Julia-1.6.2\\share\\julia\\stdlib\\v1.6\\SparseArrays\\src\\sparsematrix.jl:1741</a></li> <li> +(x::<b>SparseArrays.AbstractSparseVector{Tv, Ti} where {Tv, Ti}</b>, y::<b>SparseArrays.AbstractSparseVector{Tv, Ti} where {Tv, Ti}</b>) in SparseArrays at <a href=\"file://C:/buildbot/worker/package_win64/build/usr/share/julia/stdlib/v1.6/SparseArrays/src/sparsevector.jl\" target=\"_blank\">D:\\Programs\\Julia-1.6.2\\share\\julia\\stdlib\\v1.6\\SparseArrays\\src\\sparsevector.jl:1345</a></li> <li> +(A::<b>SparseArrays.AbstractSparseMatrixCSC</b>, B::<b>Array</b>) in SparseArrays at <a href=\"file://C:/buildbot/worker/package_win64/build/usr/share/julia/stdlib/v1.6/SparseArrays/src/sparsematrix.jl\" target=\"_blank\">D:\\Programs\\Julia-1.6.2\\share\\julia\\stdlib\\v1.6\\SparseArrays\\src\\sparsematrix.jl:1744</a></li> <li> +(A::<b>SparseArrays.AbstractSparseMatrixCSC</b>, J::<b>LinearAlgebra.UniformScaling</b>) in SparseArrays at <a href=\"file://C:/buildbot/worker/package_win64/build/usr/share/julia/stdlib/v1.6/SparseArrays/src/sparsematrix.jl\" target=\"_blank\">D:\\Programs\\Julia-1.6.2\\share\\julia\\stdlib\\v1.6\\SparseArrays\\src\\sparsematrix.jl:3797</a></li> <li> +(y::<b>Dates.TimeType</b>, x::<b>StridedArray{var\"#s832\", N} where {var\"#s832\"<:Union{Dates.CompoundPeriod, Dates.Period}, N}</b>) in Dates at <a href=\"file://C:/buildbot/worker/package_win64/build/usr/share/julia/stdlib/v1.6/Dates/src/deprecated.jl\" target=\"_blank\">D:\\Programs\\Julia-1.6.2\\share\\julia\\stdlib\\v1.6\\Dates\\src\\deprecated.jl:18</a></li> <li> +(x::<b>Rational</b>, y::<b>Integer</b>) in Base at <a href=\"https://github.com/JuliaLang/julia/tree/1b93d53fc4bb59350ada898038ed4de2994cce33/base/rational.jl#L289\" target=\"_blank\">rational.jl:289</a></li> <li> +(r::<b>AbstractRange{var\"#s832\"} where var\"#s832\"<:Dates.TimeType</b>, x::<b>Dates.Period</b>) in Dates at <a href=\"file://C:/buildbot/worker/package_win64/build/usr/share/julia/stdlib/v1.6/Dates/src/ranges.jl\" target=\"_blank\">D:\\Programs\\Julia-1.6.2\\share\\julia\\stdlib\\v1.6\\Dates\\src\\ranges.jl:63</a></li> <li> +(x::<b>AbstractArray{var\"#s832\", N} where {var\"#s832\"<:Dates.TimeType, N}</b>, y::<b>Union{Dates.CompoundPeriod, Dates.Period}</b>) in Dates at <a href=\"file://C:/buildbot/worker/package_win64/build/usr/share/julia/stdlib/v1.6/Dates/src/deprecated.jl\" target=\"_blank\">D:\\Programs\\Julia-1.6.2\\share\\julia\\stdlib\\v1.6\\Dates\\src\\deprecated.jl:6</a></li> <li> +(Da::<b>LinearAlgebra.Diagonal</b>, Db::<b>LinearAlgebra.Diagonal</b>) in LinearAlgebra at <a href=\"file://C:/buildbot/worker/package_win64/build/usr/share/julia/stdlib/v1.6/LinearAlgebra/src/diagonal.jl\" target=\"_blank\">D:\\Programs\\Julia-1.6.2\\share\\julia\\stdlib\\v1.6\\LinearAlgebra\\src\\diagonal.jl:156</a></li> <li> +(D::<b>LinearAlgebra.Diagonal</b>, S::<b>LinearAlgebra.Symmetric</b>) in LinearAlgebra at <a href=\"file://C:/buildbot/worker/package_win64/build/usr/share/julia/stdlib/v1.6/LinearAlgebra/src/diagonal.jl\" target=\"_blank\">D:\\Programs\\Julia-1.6.2\\share\\julia\\stdlib\\v1.6\\LinearAlgebra\\src\\diagonal.jl:160</a></li> <li> +(D::<b>LinearAlgebra.Diagonal{var\"#s832\", V} where {var\"#s832\"<:Real, V<:AbstractVector{var\"#s832\"}}</b>, H::<b>LinearAlgebra.Hermitian</b>) in LinearAlgebra at <a href=\"file://C:/buildbot/worker/package_win64/build/usr/share/julia/stdlib/v1.6/LinearAlgebra/src/diagonal.jl\" target=\"_blank\">D:\\Programs\\Julia-1.6.2\\share\\julia\\stdlib\\v1.6\\LinearAlgebra\\src\\diagonal.jl:166</a></li> <li> +(A::<b>LinearAlgebra.Diagonal</b>, B::<b>LinearAlgebra.Bidiagonal</b>) in LinearAlgebra at <a href=\"file://C:/buildbot/worker/package_win64/build/usr/share/julia/stdlib/v1.6/LinearAlgebra/src/special.jl\" target=\"_blank\">D:\\Programs\\Julia-1.6.2\\share\\julia\\stdlib\\v1.6\\LinearAlgebra\\src\\special.jl:125</a></li> <li> +(A::<b>LinearAlgebra.Diagonal</b>, B::<b>LinearAlgebra.SymTridiagonal</b>) in LinearAlgebra at <a href=\"file://C:/buildbot/worker/package_win64/build/usr/share/julia/stdlib/v1.6/LinearAlgebra/src/special.jl\" target=\"_blank\">D:\\Programs\\Julia-1.6.2\\share\\julia\\stdlib\\v1.6\\LinearAlgebra\\src\\special.jl:135</a></li> <li> +(A::<b>LinearAlgebra.Diagonal</b>, B::<b>LinearAlgebra.Tridiagonal</b>) in LinearAlgebra at <a href=\"file://C:/buildbot/worker/package_win64/build/usr/share/julia/stdlib/v1.6/LinearAlgebra/src/special.jl\" target=\"_blank\">D:\\Programs\\Julia-1.6.2\\share\\julia\\stdlib\\v1.6\\LinearAlgebra\\src\\special.jl:163</a></li> <li> +(A::<b>LinearAlgebra.Diagonal{var\"#s832\", V} where {var\"#s832\"<:Number, V<:AbstractVector{var\"#s832\"}}</b>, B::<b>LinearAlgebra.UniformScaling</b>) in LinearAlgebra at <a href=\"file://C:/buildbot/worker/package_win64/build/usr/share/julia/stdlib/v1.6/LinearAlgebra/src/special.jl\" target=\"_blank\">D:\\Programs\\Julia-1.6.2\\share\\julia\\stdlib\\v1.6\\LinearAlgebra\\src\\special.jl:241</a></li> <li> +(A::<b>LinearAlgebra.Symmetric</b>, B::<b>LinearAlgebra.Symmetric</b>) in LinearAlgebra at <a href=\"file://C:/buildbot/worker/package_win64/build/usr/share/julia/stdlib/v1.6/LinearAlgebra/src/symmetric.jl\" target=\"_blank\">D:\\Programs\\Julia-1.6.2\\share\\julia\\stdlib\\v1.6\\LinearAlgebra\\src\\symmetric.jl:469</a></li> <li> +(S::<b>LinearAlgebra.Symmetric</b>, D::<b>LinearAlgebra.Diagonal</b>) in LinearAlgebra at <a href=\"file://C:/buildbot/worker/package_win64/build/usr/share/julia/stdlib/v1.6/LinearAlgebra/src/diagonal.jl\" target=\"_blank\">D:\\Programs\\Julia-1.6.2\\share\\julia\\stdlib\\v1.6\\LinearAlgebra\\src\\diagonal.jl:163</a></li> <li> +(A::<b>LinearAlgebra.Symmetric{var\"#s830\", var\"#s829\"} where {var\"#s830\", var\"#s829\"<:(SparseArrays.AbstractSparseMatrix{Tv, Ti} where {Tv, Ti})}</b>, B::<b>SparseArrays.AbstractSparseMatrix{Tv, Ti} where {Tv, Ti}</b>) in SparseArrays at <a href=\"file://C:/buildbot/worker/package_win64/build/usr/share/julia/stdlib/v1.6/SparseArrays/src/linalg.jl\" target=\"_blank\">D:\\Programs\\Julia-1.6.2\\share\\julia\\stdlib\\v1.6\\SparseArrays\\src\\linalg.jl:15</a></li> <li> +(A::<b>LinearAlgebra.Symmetric</b>, B::<b>SparseArrays.AbstractSparseMatrix{Tv, Ti} where {Tv, Ti}</b>) in SparseArrays at <a href=\"file://C:/buildbot/worker/package_win64/build/usr/share/julia/stdlib/v1.6/SparseArrays/src/linalg.jl\" target=\"_blank\">D:\\Programs\\Julia-1.6.2\\share\\julia\\stdlib\\v1.6\\SparseArrays\\src\\linalg.jl:18</a></li> <li> +(A::<b>LinearAlgebra.Symmetric{var\"#s824\", var\"#s823\"} where {var\"#s824\"<:Real, var\"#s823\"<:(SparseArrays.AbstractSparseMatrix{Tv, Ti} where {Tv, Ti})}</b>, B::<b>LinearAlgebra.Hermitian{var\"#s822\", var\"#s821\"} where {var\"#s822\", var\"#s821\"<:(SparseArrays.AbstractSparseMatrix{Tv, Ti} where {Tv, Ti})}</b>) in SparseArrays at <a href=\"file://C:/buildbot/worker/package_win64/build/usr/share/julia/stdlib/v1.6/SparseArrays/src/linalg.jl\" target=\"_blank\">D:\\Programs\\Julia-1.6.2\\share\\julia\\stdlib\\v1.6\\SparseArrays\\src\\linalg.jl:25</a></li> <li> +(A::<b>LinearAlgebra.Symmetric{var\"#s831\", S} where {var\"#s831\"<:Real, S<:(AbstractMatrix{var\"#s832\"} where var\"#s832\"<:var\"#s831\")}</b>, B::<b>LinearAlgebra.Hermitian</b>) in LinearAlgebra at <a href=\"file://C:/buildbot/worker/package_win64/build/usr/share/julia/stdlib/v1.6/LinearAlgebra/src/symmetric.jl\" target=\"_blank\">D:\\Programs\\Julia-1.6.2\\share\\julia\\stdlib\\v1.6\\LinearAlgebra\\src\\symmetric.jl:484</a></li> <li> +(A::<b>LinearAlgebra.Symmetric{var\"#s832\", var\"#s831\"} where {var\"#s832\", var\"#s831\"<:(SparseArrays.AbstractSparseMatrix{Tv, Ti} where {Tv, Ti})}</b>, B::<b>LinearAlgebra.Hermitian{var\"#s830\", var\"#s829\"} where {var\"#s830\", var\"#s829\"<:(SparseArrays.AbstractSparseMatrix{Tv, Ti} where {Tv, Ti})}</b>) in SparseArrays at <a href=\"file://C:/buildbot/worker/package_win64/build/usr/share/julia/stdlib/v1.6/SparseArrays/src/linalg.jl\" target=\"_blank\">D:\\Programs\\Julia-1.6.2\\share\\julia\\stdlib\\v1.6\\SparseArrays\\src\\linalg.jl:23</a></li> <li> +(A::<b>LinearAlgebra.UnitUpperTriangular</b>, B::<b>LinearAlgebra.UpperTriangular</b>) in LinearAlgebra at <a href=\"file://C:/buildbot/worker/package_win64/build/usr/share/julia/stdlib/v1.6/LinearAlgebra/src/triangular.jl\" target=\"_blank\">D:\\Programs\\Julia-1.6.2\\share\\julia\\stdlib\\v1.6\\LinearAlgebra\\src\\triangular.jl:652</a></li> <li> +(A::<b>LinearAlgebra.UnitUpperTriangular</b>, B::<b>LinearAlgebra.UnitUpperTriangular</b>) in LinearAlgebra at <a href=\"file://C:/buildbot/worker/package_win64/build/usr/share/julia/stdlib/v1.6/LinearAlgebra/src/triangular.jl\" target=\"_blank\">D:\\Programs\\Julia-1.6.2\\share\\julia\\stdlib\\v1.6\\LinearAlgebra\\src\\triangular.jl:654</a></li> <li> +(A::<b>LinearAlgebra.AbstractTriangular</b>, B::<b>LinearAlgebra.AbstractTriangular</b>) in LinearAlgebra at <a href=\"file://C:/buildbot/worker/package_win64/build/usr/share/julia/stdlib/v1.6/LinearAlgebra/src/triangular.jl\" target=\"_blank\">D:\\Programs\\Julia-1.6.2\\share\\julia\\stdlib\\v1.6\\LinearAlgebra\\src\\triangular.jl:656</a></li> <li> +(UL::<b>LinearAlgebra.UnitUpperTriangular</b>, J::<b>LinearAlgebra.UniformScaling</b>) in LinearAlgebra at <a href=\"file://C:/buildbot/worker/package_win64/build/usr/share/julia/stdlib/v1.6/LinearAlgebra/src/uniformscaling.jl\" target=\"_blank\">D:\\Programs\\Julia-1.6.2\\share\\julia\\stdlib\\v1.6\\LinearAlgebra\\src\\uniformscaling.jl:182</a></li> <li> +(A::<b>LinearAlgebra.UnitUpperTriangular</b>, B::<b>LinearAlgebra.Bidiagonal</b>) in LinearAlgebra at <a href=\"file://C:/buildbot/worker/package_win64/build/usr/share/julia/stdlib/v1.6/LinearAlgebra/src/special.jl\" target=\"_blank\">D:\\Programs\\Julia-1.6.2\\share\\julia\\stdlib\\v1.6\\LinearAlgebra\\src\\special.jl:86</a></li> <li> +(A::<b>AbstractArray</b>, B::<b>AbstractArray</b>) in Base at <a href=\"https://github.com/JuliaLang/julia/tree/1b93d53fc4bb59350ada898038ed4de2994cce33/base/arraymath.jl#L37\" target=\"_blank\">arraymath.jl:37</a></li> <li> +(x::<b>Float16</b>, y::<b>Float16</b>) in Base at <a href=\"https://github.com/JuliaLang/julia/tree/1b93d53fc4bb59350ada898038ed4de2994cce33/base/float.jl#L324\" target=\"_blank\">float.jl:324</a></li> <li> +(level::<b>Base.CoreLogging.LogLevel</b>, inc::<b>Integer</b>) in Base.CoreLogging at <a href=\"https://github.com/JuliaLang/julia/tree/1b93d53fc4bb59350ada898038ed4de2994cce33/base/logging.jl#L131\" target=\"_blank\">logging.jl:131</a></li> <li> +(x::<b>Rational{BigInt}</b>, y::<b>Rational{BigInt}</b>) in Base.GMP.MPQ at <a href=\"https://github.com/JuliaLang/julia/tree/1b93d53fc4bb59350ada898038ed4de2994cce33/base/gmp.jl#L889\" target=\"_blank\">gmp.jl:889</a></li> <li> +(x::<b>Rational</b>) in Base at <a href=\"https://github.com/JuliaLang/julia/tree/1b93d53fc4bb59350ada898038ed4de2994cce33/base/rational.jl#L268\" target=\"_blank\">rational.jl:268</a></li> <li> +(x::<b>Rational</b>, y::<b>Rational</b>) in Base at <a href=\"https://github.com/JuliaLang/julia/tree/1b93d53fc4bb59350ada898038ed4de2994cce33/base/rational.jl#L284\" target=\"_blank\">rational.jl:284</a></li> <li> +(x::<b>Float64</b>, y::<b>Float64</b>) in Base at <a href=\"https://github.com/JuliaLang/julia/tree/1b93d53fc4bb59350ada898038ed4de2994cce33/base/float.jl#L326\" target=\"_blank\">float.jl:326</a></li> <li> +(a::<b>Pkg.Resolve.VersionWeight</b>, b::<b>Pkg.Resolve.VersionWeight</b>) in Pkg.Resolve at <a href=\"file://C:/buildbot/worker/package_win64/build/usr/share/julia/stdlib/v1.6/Pkg/src/Resolve/versionweights.jl\" target=\"_blank\">D:\\Programs\\Julia-1.6.2\\share\\julia\\stdlib\\v1.6\\Pkg\\src\\Resolve\\versionweights.jl:22</a></li> <li> +(dt::<b>Dates.Date</b>, t::<b>Dates.Time</b>) in Dates at <a href=\"file://C:/buildbot/worker/package_win64/build/usr/share/julia/stdlib/v1.6/Dates/src/arithmetic.jl\" target=\"_blank\">D:\\Programs\\Julia-1.6.2\\share\\julia\\stdlib\\v1.6\\Dates\\src\\arithmetic.jl:19</a></li> <li> +(dt::<b>Dates.Date</b>, y::<b>Dates.Year</b>) in Dates at <a href=\"file://C:/buildbot/worker/package_win64/build/usr/share/julia/stdlib/v1.6/Dates/src/arithmetic.jl\" target=\"_blank\">D:\\Programs\\Julia-1.6.2\\share\\julia\\stdlib\\v1.6\\Dates\\src\\arithmetic.jl:27</a></li> <li> +(dt::<b>Dates.Date</b>, z::<b>Dates.Month</b>) in Dates at <a href=\"file://C:/buildbot/worker/package_win64/build/usr/share/julia/stdlib/v1.6/Dates/src/arithmetic.jl\" target=\"_blank\">D:\\Programs\\Julia-1.6.2\\share\\julia\\stdlib\\v1.6\\Dates\\src\\arithmetic.jl:54</a></li> <li> +(x::<b>Dates.Date</b>, y::<b>Dates.Quarter</b>) in Dates at <a href=\"file://C:/buildbot/worker/package_win64/build/usr/share/julia/stdlib/v1.6/Dates/src/arithmetic.jl\" target=\"_blank\">D:\\Programs\\Julia-1.6.2\\share\\julia\\stdlib\\v1.6\\Dates\\src\\arithmetic.jl:73</a></li> <li> +(x::<b>Dates.Date</b>, y::<b>Dates.Week</b>) in Dates at <a href=\"file://C:/buildbot/worker/package_win64/build/usr/share/julia/stdlib/v1.6/Dates/src/arithmetic.jl\" target=\"_blank\">D:\\Programs\\Julia-1.6.2\\share\\julia\\stdlib\\v1.6\\Dates\\src\\arithmetic.jl:77</a></li> <li> +(x::<b>Dates.Date</b>, y::<b>Dates.Day</b>) in Dates at <a href=\"file://C:/buildbot/worker/package_win64/build/usr/share/julia/stdlib/v1.6/Dates/src/arithmetic.jl\" target=\"_blank\">D:\\Programs\\Julia-1.6.2\\share\\julia\\stdlib\\v1.6\\Dates\\src\\arithmetic.jl:79</a></li> <li> +(z::<b>Complex{Bool}</b>, x::<b>Bool</b>) in Base at <a href=\"https://github.com/JuliaLang/julia/tree/1b93d53fc4bb59350ada898038ed4de2994cce33/base/complex.jl#L287\" target=\"_blank\">complex.jl:287</a></li> <li> +(z::<b>Complex</b>, x::<b>Bool</b>) in Base at <a href=\"https://github.com/JuliaLang/julia/tree/1b93d53fc4bb59350ada898038ed4de2994cce33/base/complex.jl#L294\" target=\"_blank\">complex.jl:294</a></li> <li> +(z::<b>Complex{Bool}</b>, x::<b>Real</b>) in Base at <a href=\"https://github.com/JuliaLang/julia/tree/1b93d53fc4bb59350ada898038ed4de2994cce33/base/complex.jl#L301\" target=\"_blank\">complex.jl:301</a></li> <li> +(z::<b>Complex</b>) in Base at <a href=\"https://github.com/JuliaLang/julia/tree/1b93d53fc4bb59350ada898038ed4de2994cce33/base/complex.jl#L273\" target=\"_blank\">complex.jl:273</a></li> <li> +(z::<b>Complex</b>, x::<b>Real</b>) in Base at <a href=\"https://github.com/JuliaLang/julia/tree/1b93d53fc4bb59350ada898038ed4de2994cce33/base/complex.jl#L313\" target=\"_blank\">complex.jl:313</a></li> <li> +(t::<b>Dates.Time</b>, dt::<b>Dates.Date</b>) in Dates at <a href=\"file://C:/buildbot/worker/package_win64/build/usr/share/julia/stdlib/v1.6/Dates/src/arithmetic.jl\" target=\"_blank\">D:\\Programs\\Julia-1.6.2\\share\\julia\\stdlib\\v1.6\\Dates\\src\\arithmetic.jl:20</a></li> <li> +(x::<b>Dates.Time</b>, y::<b>Dates.TimePeriod</b>) in Dates at <a href=\"file://C:/buildbot/worker/package_win64/build/usr/share/julia/stdlib/v1.6/Dates/src/arithmetic.jl\" target=\"_blank\">D:\\Programs\\Julia-1.6.2\\share\\julia\\stdlib\\v1.6\\Dates\\src\\arithmetic.jl:83</a></li> <li> +(x::<b>Dates.CompoundPeriod</b>, y::<b>Dates.Period</b>) in Dates at <a href=\"file://C:/buildbot/worker/package_win64/build/usr/share/julia/stdlib/v1.6/Dates/src/periods.jl\" target=\"_blank\">D:\\Programs\\Julia-1.6.2\\share\\julia\\stdlib\\v1.6\\Dates\\src\\periods.jl:352</a></li> <li> +(x::<b>Dates.CompoundPeriod</b>, y::<b>Dates.CompoundPeriod</b>) in Dates at <a href=\"file://C:/buildbot/worker/package_win64/build/usr/share/julia/stdlib/v1.6/Dates/src/periods.jl\" target=\"_blank\">D:\\Programs\\Julia-1.6.2\\share\\julia\\stdlib\\v1.6\\Dates\\src\\periods.jl:354</a></li> <li> +(x::<b>Dates.CompoundPeriod</b>, y::<b>Dates.TimeType</b>) in Dates at <a href=\"file://C:/buildbot/worker/package_win64/build/usr/share/julia/stdlib/v1.6/Dates/src/periods.jl\" target=\"_blank\">D:\\Programs\\Julia-1.6.2\\share\\julia\\stdlib\\v1.6\\Dates\\src\\periods.jl:382</a></li> <li> +(x::<b>BigInt</b>, y::<b>BigInt</b>) in Base.GMP at <a href=\"https://github.com/JuliaLang/julia/tree/1b93d53fc4bb59350ada898038ed4de2994cce33/base/gmp.jl#L479\" target=\"_blank\">gmp.jl:479</a></li> <li> +(a::<b>BigInt</b>, b::<b>BigInt</b>, c::<b>BigInt</b>) in Base.GMP at <a href=\"https://github.com/JuliaLang/julia/tree/1b93d53fc4bb59350ada898038ed4de2994cce33/base/gmp.jl#L519\" target=\"_blank\">gmp.jl:519</a></li> <li> +(a::<b>BigInt</b>, b::<b>BigInt</b>, c::<b>BigInt</b>, d::<b>BigInt</b>) in Base.GMP at <a href=\"https://github.com/JuliaLang/julia/tree/1b93d53fc4bb59350ada898038ed4de2994cce33/base/gmp.jl#L520\" target=\"_blank\">gmp.jl:520</a></li> <li> +(a::<b>BigInt</b>, b::<b>BigInt</b>, c::<b>BigInt</b>, d::<b>BigInt</b>, e::<b>BigInt</b>) in Base.GMP at <a href=\"https://github.com/JuliaLang/julia/tree/1b93d53fc4bb59350ada898038ed4de2994cce33/base/gmp.jl#L521\" target=\"_blank\">gmp.jl:521</a></li> <li> +(x::<b>BigInt</b>, c::<b>Union{UInt16, UInt32, UInt8}</b>) in Base.GMP at <a href=\"https://github.com/JuliaLang/julia/tree/1b93d53fc4bb59350ada898038ed4de2994cce33/base/gmp.jl#L527\" target=\"_blank\">gmp.jl:527</a></li> <li> +(x::<b>BigInt</b>, c::<b>Union{Int16, Int32, Int8}</b>) in Base.GMP at <a href=\"https://github.com/JuliaLang/julia/tree/1b93d53fc4bb59350ada898038ed4de2994cce33/base/gmp.jl#L533\" target=\"_blank\">gmp.jl:533</a></li> <li> +(c::<b>BigInt</b>, x::<b>BigFloat</b>) in Base.MPFR at <a href=\"https://github.com/JuliaLang/julia/tree/1b93d53fc4bb59350ada898038ed4de2994cce33/base/mpfr.jl#L400\" target=\"_blank\">mpfr.jl:400</a></li> <li> +(B::<b>BitMatrix</b>, J::<b>LinearAlgebra.UniformScaling</b>) in LinearAlgebra at <a href=\"file://C:/buildbot/worker/package_win64/build/usr/share/julia/stdlib/v1.6/LinearAlgebra/src/uniformscaling.jl\" target=\"_blank\">D:\\Programs\\Julia-1.6.2\\share\\julia\\stdlib\\v1.6\\LinearAlgebra\\src\\uniformscaling.jl:152</a></li> <li> +(A::<b>AbstractMatrix{T} where T</b>, J::<b>LinearAlgebra.UniformScaling</b>) in LinearAlgebra at <a href=\"file://C:/buildbot/worker/package_win64/build/usr/share/julia/stdlib/v1.6/LinearAlgebra/src/uniformscaling.jl\" target=\"_blank\">D:\\Programs\\Julia-1.6.2\\share\\julia\\stdlib\\v1.6\\LinearAlgebra\\src\\uniformscaling.jl:215</a></li> <li> +(x::<b>AbstractArray{var\"#s79\", N} where {var\"#s79\"<:Number, N}</b>) in Base at <a href=\"https://github.com/JuliaLang/julia/tree/1b93d53fc4bb59350ada898038ed4de2994cce33/base/abstractarraymath.jl#L97\" target=\"_blank\">abstractarraymath.jl:97</a></li> <li> +(x::<b>Bool</b>) in Base at <a href=\"https://github.com/JuliaLang/julia/tree/1b93d53fc4bb59350ada898038ed4de2994cce33/base/bool.jl#L89\" target=\"_blank\">bool.jl:89</a></li> <li> +(x::<b>Integer</b>, y::<b>Ptr</b>) in Base at <a href=\"https://github.com/JuliaLang/julia/tree/1b93d53fc4bb59350ada898038ed4de2994cce33/base/pointer.jl#L161\" target=\"_blank\">pointer.jl:161</a></li> <li> +(y::<b>Integer</b>, x::<b>Rational</b>) in Base at <a href=\"https://github.com/JuliaLang/julia/tree/1b93d53fc4bb59350ada898038ed4de2994cce33/base/rational.jl#L296\" target=\"_blank\">rational.jl:296</a></li> <li> +(x::<b>Integer</b>, y::<b>AbstractChar</b>) in Base at <a href=\"https://github.com/JuliaLang/julia/tree/1b93d53fc4bb59350ada898038ed4de2994cce33/base/char.jl#L224\" target=\"_blank\">char.jl:224</a></li> <li> +(x::<b>Number</b>, y::<b>Base.TwicePrecision</b>) in Base at <a href=\"https://github.com/JuliaLang/julia/tree/1b93d53fc4bb59350ada898038ed4de2994cce33/base/twiceprecision.jl#L271\" target=\"_blank\">twiceprecision.jl:271</a></li> <li> +(::<b>Number</b>, ::<b>Missing</b>) in Base at <a href=\"https://github.com/JuliaLang/julia/tree/1b93d53fc4bb59350ada898038ed4de2994cce33/base/missing.jl#L117\" target=\"_blank\">missing.jl:117</a></li> <li> +(x::<b>Number</b>, J::<b>LinearAlgebra.UniformScaling</b>) in LinearAlgebra at <a href=\"file://C:/buildbot/worker/package_win64/build/usr/share/julia/stdlib/v1.6/LinearAlgebra/src/uniformscaling.jl\" target=\"_blank\">D:\\Programs\\Julia-1.6.2\\share\\julia\\stdlib\\v1.6\\LinearAlgebra\\src\\uniformscaling.jl:146</a></li> <li> +(x::<b>Bool</b>, y::<b>Bool</b>) in Base at <a href=\"https://github.com/JuliaLang/julia/tree/1b93d53fc4bb59350ada898038ed4de2994cce33/base/bool.jl#L92\" target=\"_blank\">bool.jl:92</a></li> <li> +(a::<b>Integer</b>, b::<b>Integer</b>) in Base at <a href=\"https://github.com/JuliaLang/julia/tree/1b93d53fc4bb59350ada898038ed4de2994cce33/base/int.jl#L919\" target=\"_blank\">int.jl:919</a></li> <li> +(x::<b>Bool</b>, y::<b>T</b>)<i> where T<:AbstractFloat</i> in Base at <a href=\"https://github.com/JuliaLang/julia/tree/1b93d53fc4bb59350ada898038ed4de2994cce33/base/bool.jl#L99\" target=\"_blank\">bool.jl:99</a></li> <li> +(x::<b>Bool</b>, z::<b>Complex{Bool}</b>) in Base at <a href=\"https://github.com/JuliaLang/julia/tree/1b93d53fc4bb59350ada898038ed4de2994cce33/base/complex.jl#L286\" target=\"_blank\">complex.jl:286</a></li> <li> +(x::<b>Real</b>, z::<b>Complex{Bool}</b>) in Base at <a href=\"https://github.com/JuliaLang/julia/tree/1b93d53fc4bb59350ada898038ed4de2994cce33/base/complex.jl#L300\" target=\"_blank\">complex.jl:300</a></li> <li> +(x::<b>Bool</b>, z::<b>Complex</b>) in Base at <a href=\"https://github.com/JuliaLang/julia/tree/1b93d53fc4bb59350ada898038ed4de2994cce33/base/complex.jl#L293\" target=\"_blank\">complex.jl:293</a></li> <li> +(x::<b>Real</b>, z::<b>Complex</b>) in Base at <a href=\"https://github.com/JuliaLang/julia/tree/1b93d53fc4bb59350ada898038ed4de2994cce33/base/complex.jl#L312\" target=\"_blank\">complex.jl:312</a></li> <li> +(dt::<b>Dates.DateTime</b>, y::<b>Dates.Year</b>) in Dates at <a href=\"file://C:/buildbot/worker/package_win64/build/usr/share/julia/stdlib/v1.6/Dates/src/arithmetic.jl\" target=\"_blank\">D:\\Programs\\Julia-1.6.2\\share\\julia\\stdlib\\v1.6\\Dates\\src\\arithmetic.jl:23</a></li> <li> +(dt::<b>Dates.DateTime</b>, z::<b>Dates.Month</b>) in Dates at <a href=\"file://C:/buildbot/worker/package_win64/build/usr/share/julia/stdlib/v1.6/Dates/src/arithmetic.jl\" target=\"_blank\">D:\\Programs\\Julia-1.6.2\\share\\julia\\stdlib\\v1.6\\Dates\\src\\arithmetic.jl:47</a></li> <li> +(x::<b>Dates.DateTime</b>, y::<b>Dates.Quarter</b>) in Dates at <a href=\"file://C:/buildbot/worker/package_win64/build/usr/share/julia/stdlib/v1.6/Dates/src/arithmetic.jl\" target=\"_blank\">D:\\Programs\\Julia-1.6.2\\share\\julia\\stdlib\\v1.6\\Dates\\src\\arithmetic.jl:75</a></li> <li> +(x::<b>Dates.DateTime</b>, y::<b>Dates.Period</b>) in Dates at <a href=\"file://C:/buildbot/worker/package_win64/build/usr/share/julia/stdlib/v1.6/Dates/src/arithmetic.jl\" target=\"_blank\">D:\\Programs\\Julia-1.6.2\\share\\julia\\stdlib\\v1.6\\Dates\\src\\arithmetic.jl:81</a></li> <li> +(x::<b>Dates.TimeType</b>) in Dates at <a href=\"file://C:/buildbot/worker/package_win64/build/usr/share/julia/stdlib/v1.6/Dates/src/arithmetic.jl\" target=\"_blank\">D:\\Programs\\Julia-1.6.2\\share\\julia\\stdlib\\v1.6\\Dates\\src\\arithmetic.jl:8</a></li> <li> +(x::<b>Dates.AbstractTime</b>, y::<b>Missing</b>) in Dates at <a href=\"file://C:/buildbot/worker/package_win64/build/usr/share/julia/stdlib/v1.6/Dates/src/arithmetic.jl\" target=\"_blank\">D:\\Programs\\Julia-1.6.2\\share\\julia\\stdlib\\v1.6\\Dates\\src\\arithmetic.jl:88</a></li> <li> +(a::<b>Dates.TimeType</b>, b::<b>Dates.Period</b>, c::<b>Dates.Period</b>) in Dates at <a href=\"file://C:/buildbot/worker/package_win64/build/usr/share/julia/stdlib/v1.6/Dates/src/periods.jl\" target=\"_blank\">D:\\Programs\\Julia-1.6.2\\share\\julia\\stdlib\\v1.6\\Dates\\src\\periods.jl:373</a></li> <li> +(a::<b>Dates.TimeType</b>, b::<b>Dates.Period</b>, c::<b>Dates.Period</b>, d::<b>Dates.Period...</b>) in Dates at <a href=\"file://C:/buildbot/worker/package_win64/build/usr/share/julia/stdlib/v1.6/Dates/src/periods.jl\" target=\"_blank\">D:\\Programs\\Julia-1.6.2\\share\\julia\\stdlib\\v1.6\\Dates\\src\\periods.jl:374</a></li> <li> +(x::<b>Dates.TimeType</b>, y::<b>Dates.CompoundPeriod</b>) in Dates at <a href=\"file://C:/buildbot/worker/package_win64/build/usr/share/julia/stdlib/v1.6/Dates/src/periods.jl\" target=\"_blank\">D:\\Programs\\Julia-1.6.2\\share\\julia\\stdlib\\v1.6\\Dates\\src\\periods.jl:376</a></li> <li> +(x::<b>Float32</b>, y::<b>Float32</b>) in Base at <a href=\"https://github.com/JuliaLang/julia/tree/1b93d53fc4bb59350ada898038ed4de2994cce33/base/float.jl#L325\" target=\"_blank\">float.jl:325</a></li> <li> +(x::<b>BigFloat</b>, y::<b>BigFloat</b>) in Base.MPFR at <a href=\"https://github.com/JuliaLang/julia/tree/1b93d53fc4bb59350ada898038ed4de2994cce33/base/mpfr.jl#L364\" target=\"_blank\">mpfr.jl:364</a></li> <li> +(x::<b>BigFloat</b>, c::<b>Union{UInt16, UInt32, UInt8}</b>) in Base.MPFR at <a href=\"https://github.com/JuliaLang/julia/tree/1b93d53fc4bb59350ada898038ed4de2994cce33/base/mpfr.jl#L371\" target=\"_blank\">mpfr.jl:371</a></li> <li> +(x::<b>BigFloat</b>, c::<b>Union{Int16, Int32, Int8}</b>) in Base.MPFR at <a href=\"https://github.com/JuliaLang/julia/tree/1b93d53fc4bb59350ada898038ed4de2994cce33/base/mpfr.jl#L379\" target=\"_blank\">mpfr.jl:379</a></li> <li> +(x::<b>BigFloat</b>, c::<b>Union{Float16, Float32, Float64}</b>) in Base.MPFR at <a href=\"https://github.com/JuliaLang/julia/tree/1b93d53fc4bb59350ada898038ed4de2994cce33/base/mpfr.jl#L387\" target=\"_blank\">mpfr.jl:387</a></li> <li> +(x::<b>BigFloat</b>, c::<b>BigInt</b>) in Base.MPFR at <a href=\"https://github.com/JuliaLang/julia/tree/1b93d53fc4bb59350ada898038ed4de2994cce33/base/mpfr.jl#L395\" target=\"_blank\">mpfr.jl:395</a></li> <li> +(a::<b>BigFloat</b>, b::<b>BigFloat</b>, c::<b>BigFloat</b>) in Base.MPFR at <a href=\"https://github.com/JuliaLang/julia/tree/1b93d53fc4bb59350ada898038ed4de2994cce33/base/mpfr.jl#L536\" target=\"_blank\">mpfr.jl:536</a></li> <li> +(a::<b>BigFloat</b>, b::<b>BigFloat</b>, c::<b>BigFloat</b>, d::<b>BigFloat</b>) in Base.MPFR at <a href=\"https://github.com/JuliaLang/julia/tree/1b93d53fc4bb59350ada898038ed4de2994cce33/base/mpfr.jl#L542\" target=\"_blank\">mpfr.jl:542</a></li> <li> +(a::<b>BigFloat</b>, b::<b>BigFloat</b>, c::<b>BigFloat</b>, d::<b>BigFloat</b>, e::<b>BigFloat</b>) in Base.MPFR at <a href=\"https://github.com/JuliaLang/julia/tree/1b93d53fc4bb59350ada898038ed4de2994cce33/base/mpfr.jl#L549\" target=\"_blank\">mpfr.jl:549</a></li> <li> +(x::<b>Number</b>) in Base at <a href=\"https://github.com/JuliaLang/julia/tree/1b93d53fc4bb59350ada898038ed4de2994cce33/base/operators.jl#L515\" target=\"_blank\">operators.jl:515</a></li> <li> +(x::<b>T</b>, y::<b>T</b>)<i> where T<:Number</i> in Base at <a href=\"https://github.com/JuliaLang/julia/tree/1b93d53fc4bb59350ada898038ed4de2994cce33/base/promotion.jl#L396\" target=\"_blank\">promotion.jl:396</a></li> <li> +(x::<b>Number</b>, y::<b>Number</b>) in Base at <a href=\"https://github.com/JuliaLang/julia/tree/1b93d53fc4bb59350ada898038ed4de2994cce33/base/promotion.jl#L321\" target=\"_blank\">promotion.jl:321</a></li> <li> +(::<b>Missing</b>) in Base at <a href=\"https://github.com/JuliaLang/julia/tree/1b93d53fc4bb59350ada898038ed4de2994cce33/base/missing.jl#L101\" target=\"_blank\">missing.jl:101</a></li> <li> +(::<b>Missing</b>, ::<b>Missing</b>) in Base at <a href=\"https://github.com/JuliaLang/julia/tree/1b93d53fc4bb59350ada898038ed4de2994cce33/base/missing.jl#L115\" target=\"_blank\">missing.jl:115</a></li> <li> +(::<b>Missing</b>, ::<b>Number</b>) in Base at <a href=\"https://github.com/JuliaLang/julia/tree/1b93d53fc4bb59350ada898038ed4de2994cce33/base/missing.jl#L116\" target=\"_blank\">missing.jl:116</a></li> <li> +(x::<b>Missing</b>, y::<b>Dates.AbstractTime</b>) in Dates at <a href=\"file://C:/buildbot/worker/package_win64/build/usr/share/julia/stdlib/v1.6/Dates/src/arithmetic.jl\" target=\"_blank\">D:\\Programs\\Julia-1.6.2\\share\\julia\\stdlib\\v1.6\\Dates\\src\\arithmetic.jl:89</a></li> <li> +(a::<b>Pkg.Resolve.FieldValue</b>, b::<b>Pkg.Resolve.FieldValue</b>) in Pkg.Resolve at <a href=\"file://C:/buildbot/worker/package_win64/build/usr/share/julia/stdlib/v1.6/Pkg/src/Resolve/fieldvalues.jl\" target=\"_blank\">D:\\Programs\\Julia-1.6.2\\share\\julia\\stdlib\\v1.6\\Pkg\\src\\Resolve\\fieldvalues.jl:43</a></li> <li> +(a, b, c, xs...) in Base at <a href=\"https://github.com/JuliaLang/julia/tree/1b93d53fc4bb59350ada898038ed4de2994cce33/base/operators.jl#L560\" target=\"_blank\">operators.jl:560</a></li> </ul>"
      ],
      "text/plain": [
       "# 190 methods for generic function \"+\":\n",
       "[1] +(x::T, y::T) where T<:Union{Int128, Int16, Int32, Int64, Int8, UInt128, UInt16, UInt32, UInt64, UInt8} in Base at int.jl:87\n",
       "[2] +(c::Union{UInt16, UInt32, UInt8}, x::BigInt) in Base.GMP at gmp.jl:528\n",
       "[3] +(c::Union{Int16, Int32, Int8}, x::BigInt) in Base.GMP at gmp.jl:534\n",
       "[4] +(c::Union{UInt16, UInt32, UInt8}, x::BigFloat) in Base.MPFR at mpfr.jl:376\n",
       "[5] +(c::Union{Int16, Int32, Int8}, x::BigFloat) in Base.MPFR at mpfr.jl:384\n",
       "[6] +(c::Union{Float16, Float32, Float64}, x::BigFloat) in Base.MPFR at mpfr.jl:392\n",
       "[7] +(x::Union{Dates.CompoundPeriod, Dates.Period}) in Dates at D:\\Programs\\Julia-1.6.2\\share\\julia\\stdlib\\v1.6\\Dates\\src\\periods.jl:362\n",
       "[8] +(A::LinearAlgebra.UpperHessenberg, B::LinearAlgebra.UpperHessenberg) in LinearAlgebra at D:\\Programs\\Julia-1.6.2\\share\\julia\\stdlib\\v1.6\\LinearAlgebra\\src\\hessenberg.jl:101\n",
       "[9] +(H::LinearAlgebra.UpperHessenberg, J::LinearAlgebra.UniformScaling) in LinearAlgebra at D:\\Programs\\Julia-1.6.2\\share\\julia\\stdlib\\v1.6\\LinearAlgebra\\src\\hessenberg.jl:106\n",
       "[10] +(x::AbstractIrrational, y::AbstractIrrational) in Base at irrationals.jl:156\n",
       "[11] +(x::T, y::Integer) where T<:AbstractChar in Base at char.jl:223\n",
       "[12] +(x::P, y::P) where P<:Dates.Period in Dates at D:\\Programs\\Julia-1.6.2\\share\\julia\\stdlib\\v1.6\\Dates\\src\\periods.jl:79\n",
       "[13] +(x::Dates.Period, y::Dates.Period) in Dates at D:\\Programs\\Julia-1.6.2\\share\\julia\\stdlib\\v1.6\\Dates\\src\\periods.jl:351\n",
       "[14] +(y::Dates.Period, x::Dates.CompoundPeriod) in Dates at D:\\Programs\\Julia-1.6.2\\share\\julia\\stdlib\\v1.6\\Dates\\src\\periods.jl:353\n",
       "[15] +(y::Dates.Period, x::Dates.TimeType) in Dates at D:\\Programs\\Julia-1.6.2\\share\\julia\\stdlib\\v1.6\\Dates\\src\\arithmetic.jl:85\n",
       "[16] +(x::Dates.Period, r::AbstractRange{var\"#s832\"} where var\"#s832\"<:Dates.TimeType) in Dates at D:\\Programs\\Julia-1.6.2\\share\\julia\\stdlib\\v1.6\\Dates\\src\\ranges.jl:62\n",
       "[17] +(y::Union{Dates.CompoundPeriod, Dates.Period}, x::AbstractArray{var\"#s832\", N} where {var\"#s832\"<:Dates.TimeType, N}) in Dates at D:\\Programs\\Julia-1.6.2\\share\\julia\\stdlib\\v1.6\\Dates\\src\\deprecated.jl:14\n",
       "[18] +(A::LinearAlgebra.Bidiagonal, B::LinearAlgebra.Bidiagonal) in LinearAlgebra at D:\\Programs\\Julia-1.6.2\\share\\julia\\stdlib\\v1.6\\LinearAlgebra\\src\\bidiag.jl:354\n",
       "[19] +(A::LinearAlgebra.Bidiagonal, B::LinearAlgebra.UpperTriangular) in LinearAlgebra at D:\\Programs\\Julia-1.6.2\\share\\julia\\stdlib\\v1.6\\LinearAlgebra\\src\\special.jl:94\n",
       "[20] +(A::LinearAlgebra.Bidiagonal, B::LinearAlgebra.UnitUpperTriangular) in LinearAlgebra at D:\\Programs\\Julia-1.6.2\\share\\julia\\stdlib\\v1.6\\LinearAlgebra\\src\\special.jl:94\n",
       "[21] +(A::LinearAlgebra.Bidiagonal, B::LinearAlgebra.LowerTriangular) in LinearAlgebra at D:\\Programs\\Julia-1.6.2\\share\\julia\\stdlib\\v1.6\\LinearAlgebra\\src\\special.jl:94\n",
       "[22] +(A::LinearAlgebra.Bidiagonal, B::LinearAlgebra.UnitLowerTriangular) in LinearAlgebra at D:\\Programs\\Julia-1.6.2\\share\\julia\\stdlib\\v1.6\\LinearAlgebra\\src\\special.jl:94\n",
       "[23] +(A::LinearAlgebra.Bidiagonal, B::LinearAlgebra.Diagonal) in LinearAlgebra at D:\\Programs\\Julia-1.6.2\\share\\julia\\stdlib\\v1.6\\LinearAlgebra\\src\\special.jl:115\n",
       "[24] +(A::LinearAlgebra.Bidiagonal, B::LinearAlgebra.Tridiagonal) in LinearAlgebra at D:\\Programs\\Julia-1.6.2\\share\\julia\\stdlib\\v1.6\\LinearAlgebra\\src\\special.jl:183\n",
       "[25] +(A::LinearAlgebra.Bidiagonal, B::LinearAlgebra.SymTridiagonal) in LinearAlgebra at D:\\Programs\\Julia-1.6.2\\share\\julia\\stdlib\\v1.6\\LinearAlgebra\\src\\special.jl:203\n",
       "[26] +(A::LinearAlgebra.Bidiagonal{var\"#s832\", V} where {var\"#s832\"<:Number, V<:AbstractVector{var\"#s832\"}}, B::LinearAlgebra.UniformScaling) in LinearAlgebra at D:\\Programs\\Julia-1.6.2\\share\\julia\\stdlib\\v1.6\\LinearAlgebra\\src\\special.jl:236\n",
       "[27] +(y::AbstractFloat, x::Bool) in Base at bool.jl:102\n",
       "[28] +(A::LinearAlgebra.UpperTriangular, B::LinearAlgebra.UpperTriangular) in LinearAlgebra at D:\\Programs\\Julia-1.6.2\\share\\julia\\stdlib\\v1.6\\LinearAlgebra\\src\\triangular.jl:648\n",
       "[29] +(A::LinearAlgebra.UpperTriangular, B::LinearAlgebra.UnitUpperTriangular) in LinearAlgebra at D:\\Programs\\Julia-1.6.2\\share\\julia\\stdlib\\v1.6\\LinearAlgebra\\src\\triangular.jl:650\n",
       "[30] +(A::LinearAlgebra.UpperTriangular, B::LinearAlgebra.Bidiagonal) in LinearAlgebra at D:\\Programs\\Julia-1.6.2\\share\\julia\\stdlib\\v1.6\\LinearAlgebra\\src\\special.jl:86\n",
       "[31] +(z::Complex, w::Complex) in Base at complex.jl:275\n",
       "[32] +(J::LinearAlgebra.UniformScaling) in LinearAlgebra at D:\\Programs\\Julia-1.6.2\\share\\julia\\stdlib\\v1.6\\LinearAlgebra\\src\\uniformscaling.jl:150\n",
       "[33] +(J::LinearAlgebra.UniformScaling, x::Number) in LinearAlgebra at D:\\Programs\\Julia-1.6.2\\share\\julia\\stdlib\\v1.6\\LinearAlgebra\\src\\uniformscaling.jl:145\n",
       "[34] +(J1::LinearAlgebra.UniformScaling, J2::LinearAlgebra.UniformScaling) in LinearAlgebra at D:\\Programs\\Julia-1.6.2\\share\\julia\\stdlib\\v1.6\\LinearAlgebra\\src\\uniformscaling.jl:151\n",
       "[35] +(J::LinearAlgebra.UniformScaling, B::BitMatrix) in LinearAlgebra at D:\\Programs\\Julia-1.6.2\\share\\julia\\stdlib\\v1.6\\LinearAlgebra\\src\\uniformscaling.jl:153\n",
       "[36] +(J::LinearAlgebra.UniformScaling, F::LinearAlgebra.Hessenberg) in LinearAlgebra at D:\\Programs\\Julia-1.6.2\\share\\julia\\stdlib\\v1.6\\LinearAlgebra\\src\\hessenberg.jl:560\n",
       "[37] +(A::LinearAlgebra.UniformScaling, B::LinearAlgebra.Tridiagonal{var\"#s832\", V} where {var\"#s832\"<:Number, V<:AbstractVector{var\"#s832\"}}) in LinearAlgebra at D:\\Programs\\Julia-1.6.2\\share\\julia\\stdlib\\v1.6\\LinearAlgebra\\src\\special.jl:245\n",
       "[38] +(A::LinearAlgebra.UniformScaling, B::LinearAlgebra.SymTridiagonal{var\"#s832\", V} where {var\"#s832\"<:Number, V<:AbstractVector{var\"#s832\"}}) in LinearAlgebra at D:\\Programs\\Julia-1.6.2\\share\\julia\\stdlib\\v1.6\\LinearAlgebra\\src\\special.jl:250\n",
       "[39] +(A::LinearAlgebra.UniformScaling, B::LinearAlgebra.Bidiagonal{var\"#s832\", V} where {var\"#s832\"<:Number, V<:AbstractVector{var\"#s832\"}}) in LinearAlgebra at D:\\Programs\\Julia-1.6.2\\share\\julia\\stdlib\\v1.6\\LinearAlgebra\\src\\special.jl:255\n",
       "[40] +(A::LinearAlgebra.UniformScaling, B::LinearAlgebra.Diagonal{var\"#s832\", V} where {var\"#s832\"<:Number, V<:AbstractVector{var\"#s832\"}}) in LinearAlgebra at D:\\Programs\\Julia-1.6.2\\share\\julia\\stdlib\\v1.6\\LinearAlgebra\\src\\special.jl:260\n",
       "[41] +(J::LinearAlgebra.UniformScaling, A::AbstractMatrix{T} where T) in LinearAlgebra at D:\\Programs\\Julia-1.6.2\\share\\julia\\stdlib\\v1.6\\LinearAlgebra\\src\\uniformscaling.jl:154\n",
       "[42] +(A::SparseArrays.AbstractSparseMatrix{Tv, Ti} where {Tv, Ti}, B::LinearAlgebra.Hermitian{var\"#s832\", var\"#s831\"} where {var\"#s832\", var\"#s831\"<:(SparseArrays.AbstractSparseMatrix{Tv, Ti} where {Tv, Ti})}) in SparseArrays at D:\\Programs\\Julia-1.6.2\\share\\julia\\stdlib\\v1.6\\SparseArrays\\src\\linalg.jl:14\n",
       "[43] +(A::SparseArrays.AbstractSparseMatrix{Tv, Ti} where {Tv, Ti}, B::LinearAlgebra.Hermitian) in SparseArrays at D:\\Programs\\Julia-1.6.2\\share\\julia\\stdlib\\v1.6\\SparseArrays\\src\\linalg.jl:17\n",
       "[44] +(A::SparseArrays.AbstractSparseMatrix{Tv, Ti} where {Tv, Ti}, B::LinearAlgebra.Symmetric{var\"#s832\", var\"#s831\"} where {var\"#s832\", var\"#s831\"<:(SparseArrays.AbstractSparseMatrix{Tv, Ti} where {Tv, Ti})}) in SparseArrays at D:\\Programs\\Julia-1.6.2\\share\\julia\\stdlib\\v1.6\\SparseArrays\\src\\linalg.jl:14\n",
       "[45] +(A::SparseArrays.AbstractSparseMatrix{Tv, Ti} where {Tv, Ti}, B::LinearAlgebra.Symmetric) in SparseArrays at D:\\Programs\\Julia-1.6.2\\share\\julia\\stdlib\\v1.6\\SparseArrays\\src\\linalg.jl:17\n",
       "[46] +(r1::LinRange{T}, r2::LinRange{T}) where T in Base at range.jl:1110\n",
       "[47] +(F::LinearAlgebra.Hessenberg, J::LinearAlgebra.UniformScaling) in LinearAlgebra at D:\\Programs\\Julia-1.6.2\\share\\julia\\stdlib\\v1.6\\LinearAlgebra\\src\\hessenberg.jl:559\n",
       "[48] +(A::LinearAlgebra.Hermitian, B::LinearAlgebra.Hermitian) in LinearAlgebra at D:\\Programs\\Julia-1.6.2\\share\\julia\\stdlib\\v1.6\\LinearAlgebra\\src\\symmetric.jl:469\n",
       "[49] +(H::LinearAlgebra.Hermitian, D::LinearAlgebra.Diagonal{var\"#s832\", V} where {var\"#s832\"<:Real, V<:AbstractVector{var\"#s832\"}}) in LinearAlgebra at D:\\Programs\\Julia-1.6.2\\share\\julia\\stdlib\\v1.6\\LinearAlgebra\\src\\diagonal.jl:169\n",
       "[50] +(A::LinearAlgebra.Hermitian, J::LinearAlgebra.UniformScaling{var\"#s832\"} where var\"#s832\"<:Complex) in LinearAlgebra at D:\\Programs\\Julia-1.6.2\\share\\julia\\stdlib\\v1.6\\LinearAlgebra\\src\\uniformscaling.jl:196\n",
       "[51] +(A::LinearAlgebra.Hermitian{var\"#s830\", var\"#s829\"} where {var\"#s830\", var\"#s829\"<:(SparseArrays.AbstractSparseMatrix{Tv, Ti} where {Tv, Ti})}, B::SparseArrays.AbstractSparseMatrix{Tv, Ti} where {Tv, Ti}) in SparseArrays at D:\\Programs\\Julia-1.6.2\\share\\julia\\stdlib\\v1.6\\SparseArrays\\src\\linalg.jl:15\n",
       "[52] +(A::LinearAlgebra.Hermitian, B::SparseArrays.AbstractSparseMatrix{Tv, Ti} where {Tv, Ti}) in SparseArrays at D:\\Programs\\Julia-1.6.2\\share\\julia\\stdlib\\v1.6\\SparseArrays\\src\\linalg.jl:18\n",
       "[53] +(A::LinearAlgebra.Hermitian{var\"#s820\", var\"#s819\"} where {var\"#s820\", var\"#s819\"<:(SparseArrays.AbstractSparseMatrix{Tv, Ti} where {Tv, Ti})}, B::LinearAlgebra.Symmetric{var\"#s818\", var\"#s817\"} where {var\"#s818\"<:Real, var\"#s817\"<:(SparseArrays.AbstractSparseMatrix{Tv, Ti} where {Tv, Ti})}) in SparseArrays at D:\\Programs\\Julia-1.6.2\\share\\julia\\stdlib\\v1.6\\SparseArrays\\src\\linalg.jl:26\n",
       "[54] +(A::LinearAlgebra.Hermitian, B::LinearAlgebra.Symmetric{var\"#s832\", S} where {var\"#s832\"<:Real, S<:(AbstractMatrix{var\"#s832\"} where var\"#s832\"<:var\"#s832\")}) in LinearAlgebra at D:\\Programs\\Julia-1.6.2\\share\\julia\\stdlib\\v1.6\\LinearAlgebra\\src\\symmetric.jl:483\n",
       "[55] +(A::LinearAlgebra.Hermitian{var\"#s828\", var\"#s827\"} where {var\"#s828\", var\"#s827\"<:(SparseArrays.AbstractSparseMatrix{Tv, Ti} where {Tv, Ti})}, B::LinearAlgebra.Symmetric{var\"#s826\", var\"#s825\"} where {var\"#s826\", var\"#s825\"<:(SparseArrays.AbstractSparseMatrix{Tv, Ti} where {Tv, Ti})}) in SparseArrays at D:\\Programs\\Julia-1.6.2\\share\\julia\\stdlib\\v1.6\\SparseArrays\\src\\linalg.jl:24\n",
       "[56] +(A::LinearAlgebra.LowerTriangular, B::LinearAlgebra.LowerTriangular) in LinearAlgebra at D:\\Programs\\Julia-1.6.2\\share\\julia\\stdlib\\v1.6\\LinearAlgebra\\src\\triangular.jl:649\n",
       "[57] +(A::LinearAlgebra.LowerTriangular, B::LinearAlgebra.UnitLowerTriangular) in LinearAlgebra at D:\\Programs\\Julia-1.6.2\\share\\julia\\stdlib\\v1.6\\LinearAlgebra\\src\\triangular.jl:651\n",
       "[58] +(A::LinearAlgebra.LowerTriangular, B::LinearAlgebra.Bidiagonal) in LinearAlgebra at D:\\Programs\\Julia-1.6.2\\share\\julia\\stdlib\\v1.6\\LinearAlgebra\\src\\special.jl:86\n",
       "[59] +(A::BitArray, B::BitArray) in Base at bitarray.jl:1127\n",
       "[60] +(A::Array, Bs::Array...) in Base at arraymath.jl:43\n",
       "[61] +(X::StridedArray{var\"#s832\", N} where {var\"#s832\"<:Union{Dates.CompoundPeriod, Dates.Period}, N}, Y::StridedArray{var\"#s831\", N} where {var\"#s831\"<:Union{Dates.CompoundPeriod, Dates.Period}, N}) in Dates at D:\\Programs\\Julia-1.6.2\\share\\julia\\stdlib\\v1.6\\Dates\\src\\deprecated.jl:62\n",
       "[62] +(A::Array, B::SparseArrays.AbstractSparseMatrixCSC) in SparseArrays at D:\\Programs\\Julia-1.6.2\\share\\julia\\stdlib\\v1.6\\SparseArrays\\src\\sparsematrix.jl:1745\n",
       "[63] +(x::StridedArray{var\"#s832\", N} where {var\"#s832\"<:Union{Dates.CompoundPeriod, Dates.Period}, N}) in Dates at D:\\Programs\\Julia-1.6.2\\share\\julia\\stdlib\\v1.6\\Dates\\src\\deprecated.jl:55\n",
       "[64] +(x::StridedArray{var\"#s832\", N} where {var\"#s832\"<:Union{Dates.CompoundPeriod, Dates.Period}, N}, y::Dates.TimeType) in Dates at D:\\Programs\\Julia-1.6.2\\share\\julia\\stdlib\\v1.6\\Dates\\src\\deprecated.jl:10\n",
       "[65] +(r1::StepRangeLen{T, R, S} where S, r2::StepRangeLen{T, R, S} where S) where {R<:Base.TwicePrecision, T} in Base at twiceprecision.jl:574\n",
       "[66] +(r1::StepRangeLen{T, S, S1} where S1, r2::StepRangeLen{T, S, S1} where S1) where {T, S} in Base at range.jl:1126\n",
       "[67] +(A::LinearAlgebra.Tridiagonal, B::LinearAlgebra.Tridiagonal) in LinearAlgebra at D:\\Programs\\Julia-1.6.2\\share\\julia\\stdlib\\v1.6\\LinearAlgebra\\src\\tridiag.jl:733\n",
       "[68] +(A::LinearAlgebra.Tridiagonal, B::LinearAlgebra.SymTridiagonal) in LinearAlgebra at D:\\Programs\\Julia-1.6.2\\share\\julia\\stdlib\\v1.6\\LinearAlgebra\\src\\special.jl:157\n",
       "[69] +(A::LinearAlgebra.Tridiagonal, B::LinearAlgebra.Diagonal) in LinearAlgebra at D:\\Programs\\Julia-1.6.2\\share\\julia\\stdlib\\v1.6\\LinearAlgebra\\src\\special.jl:173\n",
       "[70] +(A::LinearAlgebra.Tridiagonal, B::LinearAlgebra.Bidiagonal) in LinearAlgebra at D:\\Programs\\Julia-1.6.2\\share\\julia\\stdlib\\v1.6\\LinearAlgebra\\src\\special.jl:193\n",
       "[71] +(A::LinearAlgebra.Tridiagonal{var\"#s832\", V} where {var\"#s832\"<:Number, V<:AbstractVector{var\"#s832\"}}, B::LinearAlgebra.UniformScaling) in LinearAlgebra at D:\\Programs\\Julia-1.6.2\\share\\julia\\stdlib\\v1.6\\LinearAlgebra\\src\\special.jl:226\n",
       "[72] +(x::Base.TwicePrecision, y::Number) in Base at twiceprecision.jl:267\n",
       "[73] +(x::Base.TwicePrecision{T}, y::Base.TwicePrecision{T}) where T in Base at twiceprecision.jl:273\n",
       "[74] +(x::Base.TwicePrecision, y::Base.TwicePrecision) in Base at twiceprecision.jl:278\n",
       "[75] +(x::Ptr, y::Integer) in Base at pointer.jl:159\n",
       "[76] +(A::LinearAlgebra.SymTridiagonal, B::LinearAlgebra.SymTridiagonal) in LinearAlgebra at D:\\Programs\\Julia-1.6.2\\share\\julia\\stdlib\\v1.6\\LinearAlgebra\\src\\tridiag.jl:205\n",
       "[77] +(A::LinearAlgebra.SymTridiagonal, B::LinearAlgebra.Diagonal) in LinearAlgebra at D:\\Programs\\Julia-1.6.2\\share\\julia\\stdlib\\v1.6\\LinearAlgebra\\src\\special.jl:145\n",
       "[78] +(A::LinearAlgebra.SymTridiagonal, B::LinearAlgebra.Tridiagonal) in LinearAlgebra at D:\\Programs\\Julia-1.6.2\\share\\julia\\stdlib\\v1.6\\LinearAlgebra\\src\\special.jl:159\n",
       "[79] +(A::LinearAlgebra.SymTridiagonal, B::LinearAlgebra.Bidiagonal) in LinearAlgebra at D:\\Programs\\Julia-1.6.2\\share\\julia\\stdlib\\v1.6\\LinearAlgebra\\src\\special.jl:213\n",
       "[80] +(A::LinearAlgebra.SymTridiagonal{var\"#s832\", V} where {var\"#s832\"<:Number, V<:AbstractVector{var\"#s832\"}}, B::LinearAlgebra.UniformScaling) in LinearAlgebra at D:\\Programs\\Julia-1.6.2\\share\\julia\\stdlib\\v1.6\\LinearAlgebra\\src\\special.jl:231\n",
       "[81] +(x::Dates.Instant) in Dates at D:\\Programs\\Julia-1.6.2\\share\\julia\\stdlib\\v1.6\\Dates\\src\\arithmetic.jl:4\n",
       "[82] +(A::LinearAlgebra.UnitLowerTriangular, B::LinearAlgebra.LowerTriangular) in LinearAlgebra at D:\\Programs\\Julia-1.6.2\\share\\julia\\stdlib\\v1.6\\LinearAlgebra\\src\\triangular.jl:653\n",
       "[83] +(A::LinearAlgebra.UnitLowerTriangular, B::LinearAlgebra.UnitLowerTriangular) in LinearAlgebra at D:\\Programs\\Julia-1.6.2\\share\\julia\\stdlib\\v1.6\\LinearAlgebra\\src\\triangular.jl:655\n",
       "[84] +(UL::LinearAlgebra.UnitLowerTriangular, J::LinearAlgebra.UniformScaling) in LinearAlgebra at D:\\Programs\\Julia-1.6.2\\share\\julia\\stdlib\\v1.6\\LinearAlgebra\\src\\uniformscaling.jl:182\n",
       "[85] +(A::LinearAlgebra.UnitLowerTriangular, B::LinearAlgebra.Bidiagonal) in LinearAlgebra at D:\\Programs\\Julia-1.6.2\\share\\julia\\stdlib\\v1.6\\LinearAlgebra\\src\\special.jl:86\n",
       "[86] +(r1::OrdinalRange, r2::OrdinalRange) in Base at range.jl:1103\n",
       "[87] +(r1::Union{LinRange, OrdinalRange, StepRangeLen}, r2::Union{LinRange, OrdinalRange, StepRangeLen}) in Base at range.jl:1119\n",
       "[88] +(index1::CartesianIndex{N}, index2::CartesianIndex{N}) where N in Base.IteratorsMD at multidimensional.jl:114\n",
       "[89] +(A::SparseArrays.AbstractSparseMatrixCSC, B::SparseArrays.AbstractSparseMatrixCSC) in SparseArrays at D:\\Programs\\Julia-1.6.2\\share\\julia\\stdlib\\v1.6\\SparseArrays\\src\\sparsematrix.jl:1741\n",
       "[90] +(x::SparseArrays.AbstractSparseVector{Tv, Ti} where {Tv, Ti}, y::SparseArrays.AbstractSparseVector{Tv, Ti} where {Tv, Ti}) in SparseArrays at D:\\Programs\\Julia-1.6.2\\share\\julia\\stdlib\\v1.6\\SparseArrays\\src\\sparsevector.jl:1345\n",
       "[91] +(A::SparseArrays.AbstractSparseMatrixCSC, B::Array) in SparseArrays at D:\\Programs\\Julia-1.6.2\\share\\julia\\stdlib\\v1.6\\SparseArrays\\src\\sparsematrix.jl:1744\n",
       "[92] +(A::SparseArrays.AbstractSparseMatrixCSC, J::LinearAlgebra.UniformScaling) in SparseArrays at D:\\Programs\\Julia-1.6.2\\share\\julia\\stdlib\\v1.6\\SparseArrays\\src\\sparsematrix.jl:3797\n",
       "[93] +(y::Dates.TimeType, x::StridedArray{var\"#s832\", N} where {var\"#s832\"<:Union{Dates.CompoundPeriod, Dates.Period}, N}) in Dates at D:\\Programs\\Julia-1.6.2\\share\\julia\\stdlib\\v1.6\\Dates\\src\\deprecated.jl:18\n",
       "[94] +(x::Rational, y::Integer) in Base at rational.jl:289\n",
       "[95] +(r::AbstractRange{var\"#s832\"} where var\"#s832\"<:Dates.TimeType, x::Dates.Period) in Dates at D:\\Programs\\Julia-1.6.2\\share\\julia\\stdlib\\v1.6\\Dates\\src\\ranges.jl:63\n",
       "[96] +(x::AbstractArray{var\"#s832\", N} where {var\"#s832\"<:Dates.TimeType, N}, y::Union{Dates.CompoundPeriod, Dates.Period}) in Dates at D:\\Programs\\Julia-1.6.2\\share\\julia\\stdlib\\v1.6\\Dates\\src\\deprecated.jl:6\n",
       "[97] +(Da::LinearAlgebra.Diagonal, Db::LinearAlgebra.Diagonal) in LinearAlgebra at D:\\Programs\\Julia-1.6.2\\share\\julia\\stdlib\\v1.6\\LinearAlgebra\\src\\diagonal.jl:156\n",
       "[98] +(D::LinearAlgebra.Diagonal, S::LinearAlgebra.Symmetric) in LinearAlgebra at D:\\Programs\\Julia-1.6.2\\share\\julia\\stdlib\\v1.6\\LinearAlgebra\\src\\diagonal.jl:160\n",
       "[99] +(D::LinearAlgebra.Diagonal{var\"#s832\", V} where {var\"#s832\"<:Real, V<:AbstractVector{var\"#s832\"}}, H::LinearAlgebra.Hermitian) in LinearAlgebra at D:\\Programs\\Julia-1.6.2\\share\\julia\\stdlib\\v1.6\\LinearAlgebra\\src\\diagonal.jl:166\n",
       "[100] +(A::LinearAlgebra.Diagonal, B::LinearAlgebra.Bidiagonal) in LinearAlgebra at D:\\Programs\\Julia-1.6.2\\share\\julia\\stdlib\\v1.6\\LinearAlgebra\\src\\special.jl:125\n",
       "[101] +(A::LinearAlgebra.Diagonal, B::LinearAlgebra.SymTridiagonal) in LinearAlgebra at D:\\Programs\\Julia-1.6.2\\share\\julia\\stdlib\\v1.6\\LinearAlgebra\\src\\special.jl:135\n",
       "[102] +(A::LinearAlgebra.Diagonal, B::LinearAlgebra.Tridiagonal) in LinearAlgebra at D:\\Programs\\Julia-1.6.2\\share\\julia\\stdlib\\v1.6\\LinearAlgebra\\src\\special.jl:163\n",
       "[103] +(A::LinearAlgebra.Diagonal{var\"#s832\", V} where {var\"#s832\"<:Number, V<:AbstractVector{var\"#s832\"}}, B::LinearAlgebra.UniformScaling) in LinearAlgebra at D:\\Programs\\Julia-1.6.2\\share\\julia\\stdlib\\v1.6\\LinearAlgebra\\src\\special.jl:241\n",
       "[104] +(A::LinearAlgebra.Symmetric, B::LinearAlgebra.Symmetric) in LinearAlgebra at D:\\Programs\\Julia-1.6.2\\share\\julia\\stdlib\\v1.6\\LinearAlgebra\\src\\symmetric.jl:469\n",
       "[105] +(S::LinearAlgebra.Symmetric, D::LinearAlgebra.Diagonal) in LinearAlgebra at D:\\Programs\\Julia-1.6.2\\share\\julia\\stdlib\\v1.6\\LinearAlgebra\\src\\diagonal.jl:163\n",
       "[106] +(A::LinearAlgebra.Symmetric{var\"#s830\", var\"#s829\"} where {var\"#s830\", var\"#s829\"<:(SparseArrays.AbstractSparseMatrix{Tv, Ti} where {Tv, Ti})}, B::SparseArrays.AbstractSparseMatrix{Tv, Ti} where {Tv, Ti}) in SparseArrays at D:\\Programs\\Julia-1.6.2\\share\\julia\\stdlib\\v1.6\\SparseArrays\\src\\linalg.jl:15\n",
       "[107] +(A::LinearAlgebra.Symmetric, B::SparseArrays.AbstractSparseMatrix{Tv, Ti} where {Tv, Ti}) in SparseArrays at D:\\Programs\\Julia-1.6.2\\share\\julia\\stdlib\\v1.6\\SparseArrays\\src\\linalg.jl:18\n",
       "[108] +(A::LinearAlgebra.Symmetric{var\"#s824\", var\"#s823\"} where {var\"#s824\"<:Real, var\"#s823\"<:(SparseArrays.AbstractSparseMatrix{Tv, Ti} where {Tv, Ti})}, B::LinearAlgebra.Hermitian{var\"#s822\", var\"#s821\"} where {var\"#s822\", var\"#s821\"<:(SparseArrays.AbstractSparseMatrix{Tv, Ti} where {Tv, Ti})}) in SparseArrays at D:\\Programs\\Julia-1.6.2\\share\\julia\\stdlib\\v1.6\\SparseArrays\\src\\linalg.jl:25\n",
       "[109] +(A::LinearAlgebra.Symmetric{var\"#s831\", S} where {var\"#s831\"<:Real, S<:(AbstractMatrix{var\"#s832\"} where var\"#s832\"<:var\"#s831\")}, B::LinearAlgebra.Hermitian) in LinearAlgebra at D:\\Programs\\Julia-1.6.2\\share\\julia\\stdlib\\v1.6\\LinearAlgebra\\src\\symmetric.jl:484\n",
       "[110] +(A::LinearAlgebra.Symmetric{var\"#s832\", var\"#s831\"} where {var\"#s832\", var\"#s831\"<:(SparseArrays.AbstractSparseMatrix{Tv, Ti} where {Tv, Ti})}, B::LinearAlgebra.Hermitian{var\"#s830\", var\"#s829\"} where {var\"#s830\", var\"#s829\"<:(SparseArrays.AbstractSparseMatrix{Tv, Ti} where {Tv, Ti})}) in SparseArrays at D:\\Programs\\Julia-1.6.2\\share\\julia\\stdlib\\v1.6\\SparseArrays\\src\\linalg.jl:23\n",
       "[111] +(A::LinearAlgebra.UnitUpperTriangular, B::LinearAlgebra.UpperTriangular) in LinearAlgebra at D:\\Programs\\Julia-1.6.2\\share\\julia\\stdlib\\v1.6\\LinearAlgebra\\src\\triangular.jl:652\n",
       "[112] +(A::LinearAlgebra.UnitUpperTriangular, B::LinearAlgebra.UnitUpperTriangular) in LinearAlgebra at D:\\Programs\\Julia-1.6.2\\share\\julia\\stdlib\\v1.6\\LinearAlgebra\\src\\triangular.jl:654\n",
       "[113] +(A::LinearAlgebra.AbstractTriangular, B::LinearAlgebra.AbstractTriangular) in LinearAlgebra at D:\\Programs\\Julia-1.6.2\\share\\julia\\stdlib\\v1.6\\LinearAlgebra\\src\\triangular.jl:656\n",
       "[114] +(UL::LinearAlgebra.UnitUpperTriangular, J::LinearAlgebra.UniformScaling) in LinearAlgebra at D:\\Programs\\Julia-1.6.2\\share\\julia\\stdlib\\v1.6\\LinearAlgebra\\src\\uniformscaling.jl:182\n",
       "[115] +(A::LinearAlgebra.UnitUpperTriangular, B::LinearAlgebra.Bidiagonal) in LinearAlgebra at D:\\Programs\\Julia-1.6.2\\share\\julia\\stdlib\\v1.6\\LinearAlgebra\\src\\special.jl:86\n",
       "[116] +(A::AbstractArray, B::AbstractArray) in Base at arraymath.jl:37\n",
       "[117] +(x::Float16, y::Float16) in Base at float.jl:324\n",
       "[118] +(level::Base.CoreLogging.LogLevel, inc::Integer) in Base.CoreLogging at logging.jl:131\n",
       "[119] +(x::Rational{BigInt}, y::Rational{BigInt}) in Base.GMP.MPQ at gmp.jl:889\n",
       "[120] +(x::Rational) in Base at rational.jl:268\n",
       "[121] +(x::Rational, y::Rational) in Base at rational.jl:284\n",
       "[122] +(x::Float64, y::Float64) in Base at float.jl:326\n",
       "[123] +(a::Pkg.Resolve.VersionWeight, b::Pkg.Resolve.VersionWeight) in Pkg.Resolve at D:\\Programs\\Julia-1.6.2\\share\\julia\\stdlib\\v1.6\\Pkg\\src\\Resolve\\versionweights.jl:22\n",
       "[124] +(dt::Dates.Date, t::Dates.Time) in Dates at D:\\Programs\\Julia-1.6.2\\share\\julia\\stdlib\\v1.6\\Dates\\src\\arithmetic.jl:19\n",
       "[125] +(dt::Dates.Date, y::Dates.Year) in Dates at D:\\Programs\\Julia-1.6.2\\share\\julia\\stdlib\\v1.6\\Dates\\src\\arithmetic.jl:27\n",
       "[126] +(dt::Dates.Date, z::Dates.Month) in Dates at D:\\Programs\\Julia-1.6.2\\share\\julia\\stdlib\\v1.6\\Dates\\src\\arithmetic.jl:54\n",
       "[127] +(x::Dates.Date, y::Dates.Quarter) in Dates at D:\\Programs\\Julia-1.6.2\\share\\julia\\stdlib\\v1.6\\Dates\\src\\arithmetic.jl:73\n",
       "[128] +(x::Dates.Date, y::Dates.Week) in Dates at D:\\Programs\\Julia-1.6.2\\share\\julia\\stdlib\\v1.6\\Dates\\src\\arithmetic.jl:77\n",
       "[129] +(x::Dates.Date, y::Dates.Day) in Dates at D:\\Programs\\Julia-1.6.2\\share\\julia\\stdlib\\v1.6\\Dates\\src\\arithmetic.jl:79\n",
       "[130] +(z::Complex{Bool}, x::Bool) in Base at complex.jl:287\n",
       "[131] +(z::Complex, x::Bool) in Base at complex.jl:294\n",
       "[132] +(z::Complex{Bool}, x::Real) in Base at complex.jl:301\n",
       "[133] +(z::Complex) in Base at complex.jl:273\n",
       "[134] +(z::Complex, x::Real) in Base at complex.jl:313\n",
       "[135] +(t::Dates.Time, dt::Dates.Date) in Dates at D:\\Programs\\Julia-1.6.2\\share\\julia\\stdlib\\v1.6\\Dates\\src\\arithmetic.jl:20\n",
       "[136] +(x::Dates.Time, y::Dates.TimePeriod) in Dates at D:\\Programs\\Julia-1.6.2\\share\\julia\\stdlib\\v1.6\\Dates\\src\\arithmetic.jl:83\n",
       "[137] +(x::Dates.CompoundPeriod, y::Dates.Period) in Dates at D:\\Programs\\Julia-1.6.2\\share\\julia\\stdlib\\v1.6\\Dates\\src\\periods.jl:352\n",
       "[138] +(x::Dates.CompoundPeriod, y::Dates.CompoundPeriod) in Dates at D:\\Programs\\Julia-1.6.2\\share\\julia\\stdlib\\v1.6\\Dates\\src\\periods.jl:354\n",
       "[139] +(x::Dates.CompoundPeriod, y::Dates.TimeType) in Dates at D:\\Programs\\Julia-1.6.2\\share\\julia\\stdlib\\v1.6\\Dates\\src\\periods.jl:382\n",
       "[140] +(x::BigInt, y::BigInt) in Base.GMP at gmp.jl:479\n",
       "[141] +(a::BigInt, b::BigInt, c::BigInt) in Base.GMP at gmp.jl:519\n",
       "[142] +(a::BigInt, b::BigInt, c::BigInt, d::BigInt) in Base.GMP at gmp.jl:520\n",
       "[143] +(a::BigInt, b::BigInt, c::BigInt, d::BigInt, e::BigInt) in Base.GMP at gmp.jl:521\n",
       "[144] +(x::BigInt, c::Union{UInt16, UInt32, UInt8}) in Base.GMP at gmp.jl:527\n",
       "[145] +(x::BigInt, c::Union{Int16, Int32, Int8}) in Base.GMP at gmp.jl:533\n",
       "[146] +(c::BigInt, x::BigFloat) in Base.MPFR at mpfr.jl:400\n",
       "[147] +(B::BitMatrix, J::LinearAlgebra.UniformScaling) in LinearAlgebra at D:\\Programs\\Julia-1.6.2\\share\\julia\\stdlib\\v1.6\\LinearAlgebra\\src\\uniformscaling.jl:152\n",
       "[148] +(A::AbstractMatrix{T} where T, J::LinearAlgebra.UniformScaling) in LinearAlgebra at D:\\Programs\\Julia-1.6.2\\share\\julia\\stdlib\\v1.6\\LinearAlgebra\\src\\uniformscaling.jl:215\n",
       "[149] +(x::AbstractArray{var\"#s79\", N} where {var\"#s79\"<:Number, N}) in Base at abstractarraymath.jl:97\n",
       "[150] +(x::Bool) in Base at bool.jl:89\n",
       "[151] +(x::Integer, y::Ptr) in Base at pointer.jl:161\n",
       "[152] +(y::Integer, x::Rational) in Base at rational.jl:296\n",
       "[153] +(x::Integer, y::AbstractChar) in Base at char.jl:224\n",
       "[154] +(x::Number, y::Base.TwicePrecision) in Base at twiceprecision.jl:271\n",
       "[155] +(::Number, ::Missing) in Base at missing.jl:117\n",
       "[156] +(x::Number, J::LinearAlgebra.UniformScaling) in LinearAlgebra at D:\\Programs\\Julia-1.6.2\\share\\julia\\stdlib\\v1.6\\LinearAlgebra\\src\\uniformscaling.jl:146\n",
       "[157] +(x::Bool, y::Bool) in Base at bool.jl:92\n",
       "[158] +(a::Integer, b::Integer) in Base at int.jl:919\n",
       "[159] +(x::Bool, y::T) where T<:AbstractFloat in Base at bool.jl:99\n",
       "[160] +(x::Bool, z::Complex{Bool}) in Base at complex.jl:286\n",
       "[161] +(x::Real, z::Complex{Bool}) in Base at complex.jl:300\n",
       "[162] +(x::Bool, z::Complex) in Base at complex.jl:293\n",
       "[163] +(x::Real, z::Complex) in Base at complex.jl:312\n",
       "[164] +(dt::Dates.DateTime, y::Dates.Year) in Dates at D:\\Programs\\Julia-1.6.2\\share\\julia\\stdlib\\v1.6\\Dates\\src\\arithmetic.jl:23\n",
       "[165] +(dt::Dates.DateTime, z::Dates.Month) in Dates at D:\\Programs\\Julia-1.6.2\\share\\julia\\stdlib\\v1.6\\Dates\\src\\arithmetic.jl:47\n",
       "[166] +(x::Dates.DateTime, y::Dates.Quarter) in Dates at D:\\Programs\\Julia-1.6.2\\share\\julia\\stdlib\\v1.6\\Dates\\src\\arithmetic.jl:75\n",
       "[167] +(x::Dates.DateTime, y::Dates.Period) in Dates at D:\\Programs\\Julia-1.6.2\\share\\julia\\stdlib\\v1.6\\Dates\\src\\arithmetic.jl:81\n",
       "[168] +(x::Dates.TimeType) in Dates at D:\\Programs\\Julia-1.6.2\\share\\julia\\stdlib\\v1.6\\Dates\\src\\arithmetic.jl:8\n",
       "[169] +(x::Dates.AbstractTime, y::Missing) in Dates at D:\\Programs\\Julia-1.6.2\\share\\julia\\stdlib\\v1.6\\Dates\\src\\arithmetic.jl:88\n",
       "[170] +(a::Dates.TimeType, b::Dates.Period, c::Dates.Period) in Dates at D:\\Programs\\Julia-1.6.2\\share\\julia\\stdlib\\v1.6\\Dates\\src\\periods.jl:373\n",
       "[171] +(a::Dates.TimeType, b::Dates.Period, c::Dates.Period, d::Dates.Period...) in Dates at D:\\Programs\\Julia-1.6.2\\share\\julia\\stdlib\\v1.6\\Dates\\src\\periods.jl:374\n",
       "[172] +(x::Dates.TimeType, y::Dates.CompoundPeriod) in Dates at D:\\Programs\\Julia-1.6.2\\share\\julia\\stdlib\\v1.6\\Dates\\src\\periods.jl:376\n",
       "[173] +(x::Float32, y::Float32) in Base at float.jl:325\n",
       "[174] +(x::BigFloat, y::BigFloat) in Base.MPFR at mpfr.jl:364\n",
       "[175] +(x::BigFloat, c::Union{UInt16, UInt32, UInt8}) in Base.MPFR at mpfr.jl:371\n",
       "[176] +(x::BigFloat, c::Union{Int16, Int32, Int8}) in Base.MPFR at mpfr.jl:379\n",
       "[177] +(x::BigFloat, c::Union{Float16, Float32, Float64}) in Base.MPFR at mpfr.jl:387\n",
       "[178] +(x::BigFloat, c::BigInt) in Base.MPFR at mpfr.jl:395\n",
       "[179] +(a::BigFloat, b::BigFloat, c::BigFloat) in Base.MPFR at mpfr.jl:536\n",
       "[180] +(a::BigFloat, b::BigFloat, c::BigFloat, d::BigFloat) in Base.MPFR at mpfr.jl:542\n",
       "[181] +(a::BigFloat, b::BigFloat, c::BigFloat, d::BigFloat, e::BigFloat) in Base.MPFR at mpfr.jl:549\n",
       "[182] +(x::Number) in Base at operators.jl:515\n",
       "[183] +(x::T, y::T) where T<:Number in Base at promotion.jl:396\n",
       "[184] +(x::Number, y::Number) in Base at promotion.jl:321\n",
       "[185] +(::Missing) in Base at missing.jl:101\n",
       "[186] +(::Missing, ::Missing) in Base at missing.jl:115\n",
       "[187] +(::Missing, ::Number) in Base at missing.jl:116\n",
       "[188] +(x::Missing, y::Dates.AbstractTime) in Dates at D:\\Programs\\Julia-1.6.2\\share\\julia\\stdlib\\v1.6\\Dates\\src\\arithmetic.jl:89\n",
       "[189] +(a::Pkg.Resolve.FieldValue, b::Pkg.Resolve.FieldValue) in Pkg.Resolve at D:\\Programs\\Julia-1.6.2\\share\\julia\\stdlib\\v1.6\\Pkg\\src\\Resolve\\fieldvalues.jl:43\n",
       "[190] +(a, b, c, xs...) in Base at operators.jl:560"
      ]
     },
     "execution_count": 11,
     "metadata": {},
     "output_type": "execute_result"
    }
   ],
   "source": [
    "methods(+)"
   ]
  },
  {
   "cell_type": "markdown",
   "metadata": {},
   "source": [
    "So, we now can call `foo` on integers or strings. When you call `foo` on a particular set of arguments, Julia will infer the types of the inputs and dispatch the appropriate method. *This* is multiple dispatch.\n",
    "\n",
    "Multiple dispatch makes our code generic and fast. Our code can be generic and flexible because we can write code in terms of abstract operations such as addition and multiplication, rather than in terms of specific implementations. At the same time, our code runs quickly because Julia is able to call efficient methods for the relevant types.\n",
    "\n",
    "To see which method is being dispatched when we call a generic function, we can use the @which macro:"
   ]
  },
  {
   "cell_type": "code",
   "execution_count": 12,
   "metadata": {},
   "outputs": [
    {
     "data": {
      "text/html": [
       "foo(x::<b>Int64</b>, y::<b>Int64</b>) in Main at In[7]:1"
      ],
      "text/plain": [
       "foo(x::Int64, y::Int64) in Main at In[7]:1"
      ]
     },
     "execution_count": 12,
     "metadata": {},
     "output_type": "execute_result"
    }
   ],
   "source": [
    "@which foo(3, 4)"
   ]
  },
  {
   "cell_type": "markdown",
   "metadata": {},
   "source": [
    "Let's see what happens when we use `@which` with the addition operator!"
   ]
  },
  {
   "cell_type": "code",
   "execution_count": 13,
   "metadata": {},
   "outputs": [
    {
     "data": {
      "text/html": [
       "+(x::<b>Float64</b>, y::<b>Float64</b>) in Base at <a href=\"https://github.com/JuliaLang/julia/tree/1b93d53fc4bb59350ada898038ed4de2994cce33/base/float.jl#L326\" target=\"_blank\">float.jl:326</a>"
      ],
      "text/plain": [
       "+(x::Float64, y::Float64) in Base at float.jl:326"
      ]
     },
     "execution_count": 13,
     "metadata": {},
     "output_type": "execute_result"
    }
   ],
   "source": [
    "@which 3.0 + 3.0"
   ]
  },
  {
   "cell_type": "markdown",
   "metadata": {},
   "source": [
    "And we can continue to add other methods to our generic function `foo`. Let's add one that takes the ***abstract type*** `Number`, which includes subtypes such as `Int`, `Float64`, and other objects you would think of as numbers:"
   ]
  },
  {
   "cell_type": "code",
   "execution_count": 14,
   "metadata": {},
   "outputs": [
    {
     "data": {
      "text/plain": [
       "foo (generic function with 3 methods)"
      ]
     },
     "execution_count": 14,
     "metadata": {},
     "output_type": "execute_result"
    }
   ],
   "source": [
    "foo(x::Number, y::Number) = println(\"My inputs x and y are both numbers!\")"
   ]
  },
  {
   "cell_type": "markdown",
   "metadata": {},
   "source": [
    "This method for `foo` will work on, for example, floating point numbers:"
   ]
  },
  {
   "cell_type": "code",
   "execution_count": 15,
   "metadata": {},
   "outputs": [
    {
     "name": "stdout",
     "output_type": "stream",
     "text": [
      "My inputs x and y are both numbers!\n"
     ]
    }
   ],
   "source": [
    "foo(3.0, 4.0)"
   ]
  },
  {
   "cell_type": "markdown",
   "metadata": {},
   "source": [
    "We can also add a fallback, duck-typed method for `foo` that takes inputs of any type:"
   ]
  },
  {
   "cell_type": "code",
   "execution_count": 16,
   "metadata": {},
   "outputs": [
    {
     "data": {
      "text/plain": [
       "foo (generic function with 4 methods)"
      ]
     },
     "execution_count": 16,
     "metadata": {},
     "output_type": "execute_result"
    }
   ],
   "source": [
    "foo(x, y) = println(\"I accept inputs of any type!\")"
   ]
  },
  {
   "cell_type": "markdown",
   "metadata": {},
   "source": [
    "Given the methods we've already written for `foo` so far, this method will be called whenever we pass non-numbers to `foo`:"
   ]
  },
  {
   "cell_type": "code",
   "execution_count": 17,
   "metadata": {},
   "outputs": [
    {
     "name": "stdout",
     "output_type": "stream",
     "text": [
      "I accept inputs of any type!\n"
     ]
    }
   ],
   "source": [
    "v = rand(3)\n",
    "foo(v, v)"
   ]
  },
  {
   "cell_type": "markdown",
   "metadata": {
    "collapsed": true
   },
   "source": [
    "### Exercises\n",
    "\n",
    "#### 9.1\n",
    "\n",
    "Extend the function `foo`, adding a method that takes only one input argument, which is of type `Bool`, and prints \"foo with one boolean!\""
   ]
  },
  {
   "cell_type": "code",
   "execution_count": null,
   "metadata": {},
   "outputs": [],
   "source": []
  },
  {
   "cell_type": "markdown",
   "metadata": {},
   "source": [
    "#### 9.2\n",
    "\n",
    "Check that the method being dispatched when you execute \n",
    "```julia\n",
    "foo(true)\n",
    "```\n",
    "is the one you wrote."
   ]
  },
  {
   "cell_type": "code",
   "execution_count": null,
   "metadata": {},
   "outputs": [],
   "source": []
  }
 ],
 "metadata": {
  "anaconda-cloud": {},
  "hide_input": false,
  "kernelspec": {
   "display_name": "Julia 1.6.2",
   "language": "julia",
   "name": "julia-1.6"
  },
  "language": "Julia",
  "language_info": {
   "file_extension": ".jl",
   "mimetype": "application/julia",
   "name": "julia",
   "version": "1.6.2"
  },
  "toc": {
   "base_numbering": 1,
   "nav_menu": {
    "height": "119px",
    "width": "251px"
   },
   "number_sections": true,
   "sideBar": true,
   "skip_h1_title": true,
   "title_cell": "Table of Contents",
   "title_sidebar": "Contents",
   "toc_cell": false,
   "toc_position": {},
   "toc_section_display": "block",
   "toc_window_display": false
  }
 },
 "nbformat": 4,
 "nbformat_minor": 1
}
